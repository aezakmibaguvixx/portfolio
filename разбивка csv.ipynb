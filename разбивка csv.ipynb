{
 "cells": [
  {
   "cell_type": "code",
   "execution_count": null,
   "id": "4f198a21",
   "metadata": {},
   "outputs": [],
   "source": [
    "%%time\n",
    "import pandas as pd\n",
    "import os,shutil\n",
    "from datetime import datetime\n",
    "from datetime import timedelta\n",
    "from datetime import date\n",
    "pd.options.display.float_format='{:,.2f}'.format\n",
    "#df = pd.read_excel(r\"C:\\Users\\9967-00-345\\Desktop\\ЕНС-100000\\99.xlsx\", dtype=str)\n",
    "df = pd.read_csv(r\"C:\\Users\\9967-00-443\\Desktop\\смс\\смс-.csv\", sep = ';', dtype=str, encoding = 'utf-8')#,encoding_errors='ignore',                      \n",
    "                   #engine=\"python\", on_bad_lines=\"skip\") # 'cp1251'"
   ]
  },
  {
   "cell_type": "code",
   "execution_count": null,
   "id": "d19677bc",
   "metadata": {},
   "outputs": [],
   "source": [
    "df.head()\n"
   ]
  },
  {
   "cell_type": "code",
   "execution_count": null,
   "id": "4b8c1611",
   "metadata": {},
   "outputs": [],
   "source": [
    "df['Налог'] = df['Налог'].str.replace(',','.').astype (float)\n",
    "df['Пеня'] = df['Пеня'].str.replace(',','.').astype (float)\n",
    "df['Штраф'] = df['Штраф'].str.replace(',','.').astype (float)\n",
    "df['процент за несвоеврем возврат'] = df['процент за несвоеврем возврат'].str.replace(',','.').astype (float)\n",
    "df['процент за БС'] = df['процент за БС'].str.replace(',','.').astype (float)\n",
    "df['Общий по ЕНС'] = df['Общий по ЕНС'].str.replace(',','.').astype (float)\n",
    "df['ЕНП'] = df['ЕНП'].str.replace(',','.').astype (float)\n"
   ]
  },
  {
   "cell_type": "code",
   "execution_count": null,
   "id": "428ec84d",
   "metadata": {},
   "outputs": [],
   "source": [
    "df['SYSDATE'] = pd.to_datetime(df['SYSDATE'],dayfirst=True).dt.date"
   ]
  },
  {
   "cell_type": "code",
   "execution_count": null,
   "id": "cffc9520",
   "metadata": {},
   "outputs": [],
   "source": [
    "df.rename(columns={'i�?SYSDATE\"\"':'SYSDATE'},inplace=True)"
   ]
  },
  {
   "cell_type": "code",
   "execution_count": null,
   "id": "b465e814",
   "metadata": {},
   "outputs": [],
   "source": [
    "df['Дата'] = pd.to_datetime(df['Дата'],dayfirst=True).dt.date\n",
    "df['Дата ответа банка при выставле'] = pd.to_datetime(df['Дата ответа банка при выставле'],dayfirst=True).dt.date\n",
    "df['Дата ответа банка след'] = pd.to_datetime(df['Дата ответа банка след'],dayfirst=True).dt.date\n",
    "\n",
    "df['Начальная сумма'] = df['Начальная сумма'].str.replace(',','.').astype (float)\n",
    "df['Текущая сумма'] = df['Текущая сумма'].str.replace(',','.').astype (float)\n",
    "df['Остаток при выставлении инкасс'] = df['Остаток при выставлении инкасс'].str.replace(',','.').astype (float)\n",
    "df['Остаток след'] = df['Остаток след'].str.replace(',','.').astype (float)\n",
    "\n",
    "df.info()\n",
    "df.head()"
   ]
  },
  {
   "cell_type": "code",
   "execution_count": null,
   "id": "09d2e136",
   "metadata": {},
   "outputs": [],
   "source": [
    "df['Дата Суд.приказа'] = pd.to_datetime(df['Дата Суд.приказа'],dayfirst=True).dt.date"
   ]
  },
  {
   "cell_type": "code",
   "execution_count": null,
   "id": "4458d88f",
   "metadata": {},
   "outputs": [],
   "source": [
    "df['Сумма по ЗВСП'] = df['Сумма по ЗВСП'].str.replace(',','.').astype (float)\n",
    "df['Непогашенная сумма по ЗВСП'] = df['Непогашенная сумма по ЗВСП'].str.replace(',','.').astype (float)"
   ]
  },
  {
   "cell_type": "code",
   "execution_count": null,
   "id": "4ccd2d20",
   "metadata": {},
   "outputs": [],
   "source": [
    "df['Дата вступления в силу'] = pd.to_datetime(df['Дата вступления в силу'],dayfirst=True).dt.date"
   ]
  },
  {
   "cell_type": "code",
   "execution_count": null,
   "id": "0d1a0ef4",
   "metadata": {},
   "outputs": [],
   "source": [
    "def floating(dt, col):\n",
    "    dt[col] = dt[col].replace(',', '.', regex=True).astype(float).fillna(0.0)\n",
    "    pd.options.display.float_format = '{:.2f}'.format\n",
    "    \n",
    "#floating(df, 'Общее сальдо ЕНС') #перевод столбца в формат float\n",
    "\n",
    "\n",
    "\n",
    "chunk_size = 800000 # количество строк\n",
    "num_chunks = len(df) // chunk_size + 1 # количество частей\n",
    "num_chunks\n",
    "\n",
    "\n",
    "\n",
    "for i in range(num_chunks):\n",
    "    start = i * chunk_size # разбиение датафрейма на части и сохранение каждой части в файл Excel\n",
    "    end = (i + 1) * chunk_size\n",
    "    chunk = df.iloc[start:end] # выбор части датафрейма\n",
    "    filename = fr'C:\\Users\\9967-00-443\\Desktop\\смс\\\\sms_{i+1}.xlsx' \n",
    "    chunk.to_excel(filename, index=False) #сохранение части в файл Excel"
   ]
  }
 ],
 "metadata": {
  "kernelspec": {
   "display_name": "Python 3 (ipykernel)",
   "language": "python",
   "name": "python3"
  },
  "language_info": {
   "codemirror_mode": {
    "name": "ipython",
    "version": 3
   },
   "file_extension": ".py",
   "mimetype": "text/x-python",
   "name": "python",
   "nbconvert_exporter": "python",
   "pygments_lexer": "ipython3",
   "version": "3.9.12"
  }
 },
 "nbformat": 4,
 "nbformat_minor": 5
}
