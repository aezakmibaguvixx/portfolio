{
 "cells": [
  {
   "cell_type": "code",
   "execution_count": null,
   "metadata": {},
   "outputs": [],
   "source": [
    "import pandas as pd \n",
    "import csv\n",
    "import pandas as pd\n",
    "import glob\n",
    "import openpyxl\n",
    "path = r'Z:\\8-Отдел анализа данных\\001 - Сотрудники\\10-Чулков З. О\\Заостровский\\merge'\n",
    "all_files = sorted(glob.glob(path + \"/*.csv\"))"
   ]
  },
  {
   "cell_type": "code",
   "execution_count": null,
   "metadata": {},
   "outputs": [],
   "source": [
    "li = []\n",
    "for filename in all_files:\n",
    "    try:\n",
    "        df = pd.read_csv(filename, \n",
    "                     sep=';', \n",
    "                     index_col=None, \n",
    "                     header=0,\n",
    "                     dtype=str,\n",
    "                     encoding='utf-8',\n",
    "                     encoding_errors='ignore', engine='python', on_bad_lines='skip'\n",
    "                    )\n",
    "        li.append(df)\n",
    "    except:\n",
    "        df = pd.read_csv(filename, \n",
    "                     sep=';', \n",
    "                     index_col=None, \n",
    "                     header=0,\n",
    "                     dtype=str,\n",
    "                     encoding='cp1251',\n",
    "                     #encoding_errors='ignore',\n",
    "                     engine='python', on_bad_lines='skip'\n",
    "                    )\n",
    "        li.append(df)"
   ]
  },
  {
   "cell_type": "code",
   "execution_count": null,
   "metadata": {},
   "outputs": [],
   "source": []
  },
  {
   "cell_type": "code",
   "execution_count": null,
   "metadata": {},
   "outputs": [],
   "source": [
    "for i in range(len(li)):\n",
    "    li[i].info()\n",
    "    display(li[i].head(3))"
   ]
  },
  {
   "cell_type": "code",
   "execution_count": null,
   "metadata": {},
   "outputs": [],
   "source": [
    "df_gol = pd.read_csv(r\"Z:\\8-Отдел анализа данных\\001 - Сотрудники\\10-Чулков З. О\\Заостровский\\голова\\log.csv\", sep = ';', dtype=str,  encoding = 'cp1251',encoding_errors='ignore',                      \n",
    "                   engine=\"python\", on_bad_lines=\"skip\") # 'cp1251'"
   ]
  },
  {
   "cell_type": "code",
   "execution_count": null,
   "metadata": {},
   "outputs": [],
   "source": [
    "df_gol.head()"
   ]
  },
  {
   "cell_type": "code",
   "execution_count": null,
   "metadata": {},
   "outputs": [],
   "source": [
    "general = pd.merge(df_gol,\n",
    "                   li[0], \n",
    "                   how='left', \n",
    "                   on = ['inn'])\n"
   ]
  },
  {
   "cell_type": "code",
   "execution_count": null,
   "metadata": {},
   "outputs": [],
   "source": [
    "for j in range(1, len(li)):\n",
    "    general = general.merge(li[j], \n",
    "                   how='left', \n",
    "                   on = ['inn']\n",
    "                           )\n",
    "    \n",
    " \n"
   ]
  },
  {
   "cell_type": "code",
   "execution_count": null,
   "metadata": {},
   "outputs": [],
   "source": [
    "general.info()"
   ]
  },
  {
   "cell_type": "code",
   "execution_count": null,
   "metadata": {},
   "outputs": [],
   "source": [
    "#general['7.float'] = general['7.float'].str.replace(',','.').astype (float)\n",
    "#general['10.float'] = general['10.float'].str.replace(',','.').astype (float)\n",
    "#general['14.float'] = general['14.float'].str.replace(',','.').astype (float)\n",
    "#general['15.float'] = general['15.float'].str.replace(',','.').astype (float)\n",
    "#general['16.float'] = general['16.float'].str.replace(',','.').astype (float)\n",
    "#general['17.float'] = general['17.float'].str.replace(',','.').astype (float)\n",
    "#general['18.float'] = general['18.float'].str.replace(',','.').astype (float)\n",
    "#general['19.float'] = general['19.float'].str.replace(',','.').astype (float)\n",
    "#general['20.float'] = general['20.float'].str.replace(',','.').astype (float)\n",
    "#general['21.float'] = general['21.float'].str.replace(',','.').astype (float)\n",
    "#general['22.float'] = general['22.float'].str.replace(',','.').astype (float)\n",
    "#general['41.float'] = general['41.float'].str.replace(',','.').astype (float)\n",
    "#general['42.float'] = general['42.float'].str.replace(',','.').astype (float)"
   ]
  },
  {
   "cell_type": "code",
   "execution_count": null,
   "metadata": {},
   "outputs": [],
   "source": [
    "general['8.'] = pd.to_datetime(general['8.'],dayfirst=True,errors='coerce').dt.date\n",
    "general['9.date'] = pd.to_datetime(general['9.date'],dayfirst=True,errors='coerce').dt.date\n",
    "general['12.'] = pd.to_datetime(general['12.'],dayfirst=True,errors='coerce').dt.date\n",
    "general['13.'] = pd.to_datetime(general['13.'],dayfirst=True,errors='coerce').dt.date\n",
    "general['23.Дата возбужд дела о банкр'] = pd.to_datetime(general['23.Дата возбужд дела о банкр'],dayfirst=True,errors='coerce').dt.date\n",
    "general['ELIMINATION_DATE'] = pd.to_datetime(general['ELIMINATION_DATE'],dayfirst=True,errors='coerce').dt.date\n",
    "general['26.'] = pd.to_datetime(general['26.'],dayfirst=True,errors='coerce').dt.date\n"
   ]
  },
  {
   "cell_type": "code",
   "execution_count": null,
   "metadata": {},
   "outputs": [],
   "source": [
    "general.to_excel(r'Z:\\8-Отдел анализа данных\\001 - Сотрудники\\10-Чулков З. О\\Заостровский\\merge\\\\Заостровский.xlsx',index=False)"
   ]
  },
  {
   "cell_type": "code",
   "execution_count": null,
   "metadata": {},
   "outputs": [],
   "source": [
    "a = []\n",
    "a = general.columns\n",
    "\n",
    "list_float = []\n",
    "d = '.float'\n",
    "for i in a:\n",
    "    if i.endswith(d):\n",
    "        list_float.append(i)\n",
    "\n",
    "def floating(dt, col):\n",
    "    dt[col] = dt[col].replace(',', '.', regex=True).astype(float)\n",
    "    pd.options.display.float_format = '{:.2f}'.format\n",
    "\n",
    "\n",
    "for i in list_float:\n",
    "    floating(general, i)\n"
   ]
  },
  {
   "cell_type": "code",
   "execution_count": null,
   "metadata": {},
   "outputs": [],
   "source": [
    "import pandas as pd\n",
    "df = pd.read_excel(r\"Z:\\8-Отдел анализа данных\\001 - Сотрудники\\05 - Чурахин А.А\\Ванатов\\Рейтинг топ 1000\\топ 1000 1512.xlsx\", dtype=str)"
   ]
  },
  {
   "cell_type": "code",
   "execution_count": null,
   "metadata": {},
   "outputs": [],
   "source": [
    "df.info()"
   ]
  },
  {
   "cell_type": "code",
   "execution_count": null,
   "metadata": {},
   "outputs": [],
   "source": [
    "\n",
    " \n",
    "# Замените 'file.xlsx' на путь к вашему файлу Excel\n",
    "\n",
    " \n",
    "# Группировка данных по столбцу 'регион' и выбор топ ID для каждого региона\n",
    "top_ids_by_region = df.groupby('Регион')['ИНН Отрицательное сальдо ЕНС (на отчетную дату текущего года)', 'Отрицательное сальдо ЕНС (на отчетную дату прошлого года)'].apply(lambda x: x.nlargest(1, columns='Отрицательное сальдо ЕНС (на отчетную дату прошлого года)')).reset_index(drop=True)\n",
    " \n",
    "# Вывод результата\n",
    "print(top_ids_by_region)"
   ]
  },
  {
   "cell_type": "code",
   "execution_count": null,
   "metadata": {},
   "outputs": [],
   "source": [
    "df['Отрицательное сальдо ЕНС (на отчетную дату прошлого года)'] = df['Отрицательное сальдо ЕНС (на отчетную дату прошлого года)'].str.replace(',','.').astype (float)"
   ]
  },
  {
   "cell_type": "code",
   "execution_count": null,
   "metadata": {},
   "outputs": [],
   "source": []
  },
  {
   "cell_type": "code",
   "execution_count": null,
   "metadata": {},
   "outputs": [],
   "source": [
    "\"Z:\\8-Отдел анализа данных\\001 - Сотрудники\\05 - Чурахин А.А\\Ванатов\\Рейтинг топ 1000\\топ 1000 1512.xlsx\""
   ]
  },
  {
   "cell_type": "code",
   "execution_count": null,
   "metadata": {},
   "outputs": [],
   "source": []
  },
  {
   "cell_type": "code",
   "execution_count": null,
   "metadata": {},
   "outputs": [],
   "source": [
    "import pandas as pd\n",
    "df = pd.read_excel(r\"Z:\\8-Отдел анализа данных\\001 - Сотрудники\\10-Чулков З. О\\На неделю\\Ежедневно\\ens\\Захар8_10.xlsx\", dtype=str)"
   ]
  },
  {
   "cell_type": "code",
   "execution_count": null,
   "metadata": {},
   "outputs": [],
   "source": [
    "df.head()"
   ]
  },
  {
   "cell_type": "code",
   "execution_count": null,
   "metadata": {},
   "outputs": [],
   "source": [
    "import pandas as pd\n",
    " \n",
    "# Загрузка Excel-файла\n",
    "df = pd.read_excel(r\"Z:\\8-Отдел анализа данных\\001 - Сотрудники\\10-Чулков З. О\\На неделю\\Ежедневно\\ens\\Захар8_10.xlsx\", dtype=str)\n",
    " \n",
    "# Создание новых столбцов\n",
    "df['8-значное'] = None\n",
    "df['10-значное'] = None\n",
    "df['Организация'] = None\n",
    " \n",
    "# Проход по строкам и извлечение информации\n",
    "for index, row in df.iterrows():\n",
    "    data_str = str(row['Unnamed: 0'])\n",
    "    data_list = [data_str[i:i+8] for i in range(0, len(data_str), 8)]\n",
    " \n",
    "    for i, item in enumerate(data_list):\n",
    "        if i == 0:\n",
    "            df.at[index, '8-значное'] = item\n",
    "        elif i == 1:\n",
    "            df.at[index, '10-значное'] = item\n",
    "        else:\n",
    "            df.at[index, f'Организация_{i-1}'] = item\n",
    " \n",
    "# Удаление избыточных столбцов\n",
    "df = df.drop(['Unnamed: 0', 'Колонка2'], axis=1)\n",
    " \n",
    "# Сохранение результата в новый Excel-файл\n",
    "df.to_excel('новый_файл.xlsx', index=False)\n",
    " \n",
    "\n"
   ]
  }
 ],
 "metadata": {
  "interpreter": {
   "hash": "464f91bbef21342966df8aaa7057ea3ab13d34820c5f2ed800db78f86fd43984"
  },
  "kernelspec": {
   "display_name": "Python 3.9.12 ('base')",
   "language": "python",
   "name": "python3"
  },
  "language_info": {
   "codemirror_mode": {
    "name": "ipython",
    "version": 3
   },
   "file_extension": ".py",
   "mimetype": "text/x-python",
   "name": "python",
   "nbconvert_exporter": "python",
   "pygments_lexer": "ipython3",
   "version": "3.9.12"
  },
  "orig_nbformat": 4
 },
 "nbformat": 4,
 "nbformat_minor": 2
}
