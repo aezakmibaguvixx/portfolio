{
 "cells": [
  {
   "cell_type": "code",
   "execution_count": null,
   "metadata": {},
   "outputs": [],
   "source": [
    "import pandas as pd\n",
    "import csv\n",
    "import io \n",
    " \n",
    "file_path = r\"Z:\\8-Отдел анализа данных\\001 - Сотрудники\\10-Чулков З. О\\На неделю\\Ежедневно\\Инкассовые\\26.10\\result-.csv\"\n",
    " \n",
    "# Чтение файла в байтах\n",
    "with open(file_path, 'rb') as f:\n",
    "    content = f.read()\n",
    " \n",
    "# Список кодировок для проверки\n",
    "possible_encodings = ['utf-8', 'cp1251', 'latin-1', 'cp866']\n",
    " \n",
    "for encoding in possible_encodings:\n",
    "    try:\n",
    "        df = pd.read_csv(io.BytesIO(content), sep=';', dtype=str, encoding=encoding)\n",
    "        print(f\"Файл успешно прочитан с кодировкой {encoding}.\")\n",
    "        break  # Выход из цикла, если файл успешно прочитан\n",
    "    except UnicodeDecodeError:\n",
    "        continue"
   ]
  },
  {
   "cell_type": "code",
   "execution_count": null,
   "metadata": {},
   "outputs": [],
   "source": [
    "import pandas as pd\n",
    "import csv\n",
    "import io \n",
    "df = pd.read_csv(r\"Z:\\8-Отдел анализа данных\\001 - Сотрудники\\10-Чулков З. О\\На неделю\\Ежедневно\\Инкассовые\\15.11\\result-.csv\", sep = ';',   encoding = 'cp1251',encoding_errors='ignore',  dtype=str,                    \n",
    "                   engine=\"python\", on_bad_lines=\"skip\") # 'cp1251'"
   ]
  },
  {
   "cell_type": "code",
   "execution_count": null,
   "metadata": {},
   "outputs": [],
   "source": [
    "df.rename(columns={'i?\"kod_no\"':'Код НО'},inplace=True)"
   ]
  },
  {
   "cell_type": "code",
   "execution_count": null,
   "metadata": {},
   "outputs": [],
   "source": [
    "\n",
    "df.head()"
   ]
  },
  {
   "cell_type": "code",
   "execution_count": null,
   "metadata": {},
   "outputs": [],
   "source": [
    "mapping = {\n",
    "    'kod_no':'Код НО',\n",
    "    'inn':'ИНН',\n",
    "    'doc_№':'№ документа',\n",
    "    'doc_date':'Дата документа',\n",
    "    'sum_porych':'сумма отриц сальдо в поручении',\n",
    "    'sum_aktual':'сумма отриц сальдо актуальная',\n",
    "    'bik':'БИК банка',\n",
    "    'bank':'Банк',\n",
    "    'name':'Наименование',\n",
    "    }\n",
    "df.rename(columns = mapping, inplace=True)\n",
    "df.info()"
   ]
  },
  {
   "cell_type": "code",
   "execution_count": null,
   "metadata": {},
   "outputs": [],
   "source": [
    "df = df.drop('RN',axis=1)"
   ]
  },
  {
   "cell_type": "code",
   "execution_count": null,
   "metadata": {},
   "outputs": [],
   "source": [
    "df['сумма отриц сальдо актуальная'] = df['сумма отриц сальдо актуальная'].str.replace(',','.').astype (float)\n",
    "df['сумма отриц сальдо в поручении'] = df['сумма отриц сальдо в поручении'].str.replace(',','.').astype (float)\n",
    "df['Дата документа'] = pd.to_datetime(df['Дата документа'],dayfirst=True).dt.date"
   ]
  },
  {
   "cell_type": "code",
   "execution_count": null,
   "metadata": {},
   "outputs": [],
   "source": [
    "df.to_excel(r'Z:\\8-Отдел анализа данных\\001 - Сотрудники\\10-Чулков З. О\\На неделю\\Ежедневно\\Инкассовые\\15.11\\\\Инкассовые 15.11.2023.xlsx',index=False)"
   ]
  }
 ],
 "metadata": {
  "interpreter": {
   "hash": "464f91bbef21342966df8aaa7057ea3ab13d34820c5f2ed800db78f86fd43984"
  },
  "kernelspec": {
   "display_name": "Python 3.9.12 ('base')",
   "language": "python",
   "name": "python3"
  },
  "language_info": {
   "codemirror_mode": {
    "name": "ipython",
    "version": 3
   },
   "file_extension": ".py",
   "mimetype": "text/x-python",
   "name": "python",
   "nbconvert_exporter": "python",
   "pygments_lexer": "ipython3",
   "version": "3.9.12"
  },
  "orig_nbformat": 4
 },
 "nbformat": 4,
 "nbformat_minor": 2
}
