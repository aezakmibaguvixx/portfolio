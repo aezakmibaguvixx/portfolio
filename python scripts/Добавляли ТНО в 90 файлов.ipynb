{
 "cells": [
  {
   "cell_type": "code",
   "execution_count": null,
   "id": "2400b9e4",
   "metadata": {},
   "outputs": [],
   "source": [
    "import openpyxl as op\n",
    "import shutil\n",
    "import os\n",
    "from datetime import datetime\n",
    "from openpyxl import Workbook\n",
    "from pandas import ExcelWriter\n",
    "import glob\n",
    "pd.set_option('display.max_columns', None)"
   ]
  },
  {
   "cell_type": "code",
   "execution_count": null,
   "id": "bcc4138e",
   "metadata": {},
   "outputs": [],
   "source": [
    "# FB\n",
    "path = r'D:\\90'\n",
    "all_files = sorted(glob.glob(path + \"/*.xlsx\"),\n",
    "                      reverse=False)   \n",
    "\n",
    "#heads = pd.read_excel(\n",
    "   # r\"Z:\\8-Отдел анализа данных\\001 - Сотрудники\\05 - Чурахин А.А\\ЕНС\\№5. Проверка целостности данных в рамках ОКНО\\FB\\KBK FB.xlsx\",\n",
    "                     #sep=';', \n",
    "    #encoding='cp1251',\n",
    "   # dtype=str)"
   ]
  },
  {
   "cell_type": "code",
   "execution_count": null,
   "id": "757cf113",
   "metadata": {},
   "outputs": [],
   "source": [
    "li = []\n",
    "for filename in all_files:\n",
    "    try:\n",
    "        df = pd.read_excel(filename, \n",
    "                     #sep=';', \n",
    "                     index_col=None, \n",
    "                     header=0,\n",
    "                     dtype=str, names=['inn', 'OKTMO', 'kbk', 'name_kbk', 'TAX_ID','T6',\n",
    "                                      'T7','T9', 'TKR_TYPE1','TYPE2','TYPE5','TYPE6','TYPE7']\n",
    "                    )\n",
    "        li.append(df)\n",
    "    except:\n",
    "        df = pd.read_excel(filename, \n",
    "                     #sep=';', \n",
    "                     index_col=None, \n",
    "                     header=0, names=['inn', 'OKTMO', 'kbk', 'name_kbk', 'TAX_ID','T6',\n",
    "                                      'T7','T9', 'TKR_TYPE1','TYPE2','TYPE5','TYPE6','TYPE7'],\n",
    "                     dtype=str, #engine=\"python\", on_bad_lines=\"skip\",encoding_errors='ignore',    \n",
    "                     encoding='cp1251'\n",
    "                    )\n",
    "        li.append(df)"
   ]
  },
  {
   "cell_type": "code",
   "execution_count": null,
   "id": "ecac745b",
   "metadata": {},
   "outputs": [],
   "source": [
    "general = pd.concat([li[0], li[1]])\n",
    "for i in range(2, len(li)):\n",
    "    general = pd.concat([general, li[i]])"
   ]
  },
  {
   "cell_type": "code",
   "execution_count": null,
   "id": "ab4b470e",
   "metadata": {},
   "outputs": [],
   "source": [
    "general.head(5)"
   ]
  },
  {
   "cell_type": "code",
   "execution_count": null,
   "id": "06b58c74",
   "metadata": {},
   "outputs": [],
   "source": [
    "#general.loc[general['€ЌЌ'].isnull()]"
   ]
  },
  {
   "cell_type": "code",
   "execution_count": null,
   "id": "a02d8314",
   "metadata": {},
   "outputs": [],
   "source": [
    "general.info()"
   ]
  },
  {
   "cell_type": "code",
   "execution_count": null,
   "id": "824d0b92",
   "metadata": {},
   "outputs": [],
   "source": [
    "general['OKTMO'].value_counts()"
   ]
  },
  {
   "cell_type": "code",
   "execution_count": null,
   "id": "adb1163d",
   "metadata": {},
   "outputs": [],
   "source": [
    "general['ct_kbk'] = general['kbk'].str.slice(0,8) "
   ]
  },
  {
   "cell_type": "code",
   "execution_count": null,
   "id": "89648958",
   "metadata": {},
   "outputs": [],
   "source": [
    "general.info()"
   ]
  },
  {
   "cell_type": "code",
   "execution_count": null,
   "id": "cd486a5d",
   "metadata": {},
   "outputs": [],
   "source": [
    "general['ct_kbk']"
   ]
  },
  {
   "cell_type": "code",
   "execution_count": null,
   "id": "bdb52400",
   "metadata": {},
   "outputs": [],
   "source": [
    "itog = general.query('ct_kbk != \"18210101\"')[['inn']]"
   ]
  },
  {
   "cell_type": "code",
   "execution_count": null,
   "id": "88b2949a",
   "metadata": {},
   "outputs": [],
   "source": [
    "itog.info()"
   ]
  },
  {
   "cell_type": "code",
   "execution_count": null,
   "id": "322f88a9",
   "metadata": {},
   "outputs": [],
   "source": [
    "itog_1 = itog.iloc[:500000]\n",
    "itog_2 = itog.iloc[500000:1000000]\n",
    "itog_3 = itog.iloc[1000000:1500000]\n",
    "itog_4 = itog.iloc[1500000:2000000]\n",
    "itog_5 = itog.iloc[2000000:2500000]\n",
    "itog_6 = itog.iloc[2500000:3000000]\n",
    "itog_7 = itog.iloc[3000000:3500000]\n",
    "itog_8 = itog.iloc[3500000:4000000]\n",
    "itog_9 = itog.iloc[4000000:4500000]\n",
    "itog_10 = itog.iloc[4500000:]"
   ]
  },
  {
   "cell_type": "code",
   "execution_count": null,
   "id": "f988c55a",
   "metadata": {},
   "outputs": [],
   "source": [
    "itog_5.info()"
   ]
  },
  {
   "cell_type": "code",
   "execution_count": null,
   "id": "66a09c0b",
   "metadata": {},
   "outputs": [],
   "source": [
    "itog_1.to_excel(r'D:\\разбивка инн по 1 млн\\itog_1.xlsx', \n",
    "                 index=False)\n",
    "itog_2.to_excel(r'D:\\разбивка инн по 1 млн\\itog_2.xlsx', \n",
    "                 index=False)\n",
    "itog_3.to_excel(r'D:\\разбивка инн по 1 млн\\itog_3.xlsx', \n",
    "                 index=False)\n",
    "itog_4.to_excel(r'D:\\разбивка инн по 1 млн\\itog_4.xlsx', \n",
    "                 index=False)\n",
    "itog_5.to_excel(r'D:\\разбивка инн по 1 млн\\itog_5.xlsx', \n",
    "                 index=False)\n",
    "itog_6.to_excel(r'D:\\разбивка инн по 1 млн\\itog_6.xlsx', \n",
    "                 index=False)\n",
    "itog_7.to_excel(r'D:\\разбивка инн по 1 млн\\itog_7.xlsx', \n",
    "                 index=False)\n",
    "itog_8.to_excel(r'D:\\разбивка инн по 1 млн\\itog_8.xlsx', \n",
    "                 index=False)\n",
    "itog_9.to_excel(r'D:\\разбивка инн по 1 млн\\itog_9.xlsx', \n",
    "                 index=False)\n",
    "itog_10.to_excel(r'D:\\разбивка инн по 1 млн\\itog_10.xlsx', \n",
    "                 index=False)"
   ]
  },
  {
   "cell_type": "code",
   "execution_count": null,
   "id": "e18d66b7",
   "metadata": {},
   "outputs": [],
   "source": [
    "# FB\n",
    "path2 = r'D:\\90 инн - тно'\n",
    "all_files2 = sorted(glob.glob(path2 + \"/*.csv\"),\n",
    "                      reverse=False) \n"
   ]
  },
  {
   "cell_type": "code",
   "execution_count": null,
   "id": "e7583b49",
   "metadata": {},
   "outputs": [],
   "source": [
    "all_files2"
   ]
  },
  {
   "cell_type": "code",
   "execution_count": null,
   "id": "850a5cc5",
   "metadata": {},
   "outputs": [],
   "source": [
    "li2 = []\n",
    "for filename in all_files2:\n",
    "    try:\n",
    "        df = pd.read_csv(filename, \n",
    "                     sep=';', \n",
    "                     index_col=None, \n",
    "                     header=0,\n",
    "                     dtype=str, encoding_errors='ignore',                      \n",
    "                   engine=\"python\", on_bad_lines=\"skip\",\n",
    "                     #encoding='cp1251'\n",
    "                    )\n",
    "        li2.append(df)\n",
    "    except:\n",
    "        df = pd.read_csv(filename, \n",
    "                     sep=';', \n",
    "                     index_col=None, \n",
    "                     header=0,\n",
    "                     dtype=str, encoding_errors='ignore',                      \n",
    "                   engine=\"python\", on_bad_lines=\"skip\",\n",
    "                     encoding='cp1251'\n",
    "                    )\n",
    "        li2.append(df)"
   ]
  },
  {
   "cell_type": "code",
   "execution_count": null,
   "id": "8c99a3ee",
   "metadata": {},
   "outputs": [],
   "source": [
    "for i in range(len(li2)):\n",
    "    print('Таблица номер - ', i)\n",
    "    li2[i].info()\n",
    "    display(li2[i].head(3))\n",
    "    print('Закончена - ', i)\n",
    "    print('-----------------------')"
   ]
  },
  {
   "cell_type": "code",
   "execution_count": null,
   "id": "359c8fc3",
   "metadata": {},
   "outputs": [],
   "source": [
    "li2[0].rename(columns = {'i?\"INN\"' : 'inn',\n",
    "                      }, inplace = True)\n",
    "li2[1].rename(columns = {'i?\"INN\"' : 'inn',\n",
    "                      }, inplace = True)\n",
    "li2[2].rename(columns = {'i?\"INN\"' : 'inn',\n",
    "                      }, inplace = True)\n",
    "li2[3].rename(columns = {'i?\"INN\"' : 'inn',\n",
    "                      }, inplace = True)\n",
    "li2[4].rename(columns = {'i?\"INN\"' : 'inn',\n",
    "                      }, inplace = True)\n",
    "li2[5].rename(columns = {'i?\"INN\"' : 'inn',\n",
    "                      }, inplace = True)\n",
    "li2[6].rename(columns = {'i?\"INN\"' : 'inn',\n",
    "                      }, inplace = True)\n",
    "li2[7].rename(columns = {'i?\"INN\"' : 'inn',\n",
    "                      }, inplace = True)\n",
    "li2[8].rename(columns = {'i?\"INN\"' : 'inn',\n",
    "                      }, inplace = True)\n",
    "li2[9].rename(columns = {'i?\"INN\"' : 'inn',\n",
    "                      }, inplace = True)\n"
   ]
  },
  {
   "cell_type": "code",
   "execution_count": null,
   "id": "672d1dd7",
   "metadata": {},
   "outputs": [],
   "source": [
    "general_tno = pd.concat([li2[0], li2[1]])\n",
    "for i in range(2, len(li2)):\n",
    "    general_tno = pd.concat([general_tno, li2[i]])"
   ]
  },
  {
   "cell_type": "code",
   "execution_count": null,
   "id": "019398c0",
   "metadata": {},
   "outputs": [],
   "source": [
    "general_tno = general_tno.drop_duplicates()"
   ]
  },
  {
   "cell_type": "code",
   "execution_count": null,
   "id": "8ec4e411",
   "metadata": {},
   "outputs": [],
   "source": [
    "general_tno"
   ]
  },
  {
   "cell_type": "code",
   "execution_count": null,
   "id": "cdb5b39a",
   "metadata": {},
   "outputs": [],
   "source": [
    "general_all = pd.merge(general,\n",
    "                   general_tno, \n",
    "                   how='left', \n",
    "                   left_on = ['inn'],\n",
    "                   right_on = ['inn'])\n",
    "#general.drop(columns=['FID'], inplace=True)"
   ]
  },
  {
   "cell_type": "code",
   "execution_count": null,
   "id": "738f476c",
   "metadata": {},
   "outputs": [],
   "source": [
    "general_all.head()"
   ]
  },
  {
   "cell_type": "code",
   "execution_count": null,
   "id": "4169ade6",
   "metadata": {},
   "outputs": [],
   "source": [
    "general_all = general_all.query('ct_kbk != \"18210101\"')[['inn', 'NO_MRI_CODE', 'OKTMO', 'kbk', 'name_kbk', 'TAX_ID', 'T6', 'T7', 'TKR_TYPE1']]"
   ]
  },
  {
   "cell_type": "code",
   "execution_count": null,
   "id": "fca72ed7",
   "metadata": {},
   "outputs": [],
   "source": [
    "general_all.head(5)"
   ]
  },
  {
   "cell_type": "code",
   "execution_count": null,
   "id": "a6c1c003",
   "metadata": {},
   "outputs": [],
   "source": [
    "def floating2(dt, col):\n",
    "    dt[col] = dt[col].replace(',', '.', regex=True).astype(float)\n",
    "    pd.options.display.float_format = '{:.2f}'.format\n",
    "\n",
    "\n",
    "for i in ['T6', 'T7', 'TKR_TYPE1']:\n",
    "    floating2(general_all, i)"
   ]
  },
  {
   "cell_type": "code",
   "execution_count": null,
   "id": "1f795cab",
   "metadata": {},
   "outputs": [],
   "source": [
    "general_all.info()"
   ]
  },
  {
   "cell_type": "code",
   "execution_count": null,
   "id": "7a689bb1",
   "metadata": {},
   "outputs": [],
   "source": []
  },
  {
   "cell_type": "code",
   "execution_count": null,
   "id": "525c0ff6",
   "metadata": {},
   "outputs": [],
   "source": [
    "# создание списка Код субъекта РФ, если ошибка необходимо указать в кавычках имя столбца с Код субъекта РФ\n",
    "data_22 = general_all['OKTMO'].unique().tolist()\n",
    "#data_table = data_table.drop(['Unnamed: 16'], axis = 1)"
   ]
  },
  {
   "cell_type": "code",
   "execution_count": null,
   "id": "e14976c0",
   "metadata": {},
   "outputs": [],
   "source": [
    "data_22 = sorted(data_22)"
   ]
  },
  {
   "cell_type": "code",
   "execution_count": null,
   "id": "a5b44a0d",
   "metadata": {},
   "outputs": [],
   "source": [
    "general_all = general_all.sort_values(by='OKTMO')"
   ]
  },
  {
   "cell_type": "code",
   "execution_count": null,
   "id": "f195e9de",
   "metadata": {},
   "outputs": [],
   "source": [
    "for i in data_22:\n",
    "    #пункт 1\n",
    "    data_tables = general_all.query('OKTMO == @i') \n",
    "    \n",
    "    #data_tables.drop(columns=['region'], inplace=True)\n",
    "    \n",
    "    shutil.copy(r'Z:\\8-Отдел анализа данных\\001 - Сотрудники\\05 - Чурахин А.А\\Разбивка по регионам Python\\Шапка 90 регионов.xlsx', \n",
    "                        i+'.xlsx')\n",
    "    wb = op.load_workbook(i+'.xlsx')\n",
    "    ws = wb.active\n",
    "    #display(data_tables)\n",
    "    for l in range (len(data_tables)):\n",
    "        #display(data_tables)        \n",
    "        ws.append(data_tables.iloc[l].tolist())\n",
    "        \n",
    "        \n",
    "    wb.save(r'D:\\90+тно\\\\'+i+'.xlsx')    "
   ]
  },
  {
   "cell_type": "code",
   "execution_count": null,
   "id": "e894b211",
   "metadata": {},
   "outputs": [],
   "source": []
  }
 ],
 "metadata": {
  "kernelspec": {
   "display_name": "Python 3 (ipykernel)",
   "language": "python",
   "name": "python3"
  },
  "language_info": {
   "codemirror_mode": {
    "name": "ipython",
    "version": 3
   },
   "file_extension": ".py",
   "mimetype": "text/x-python",
   "name": "python",
   "nbconvert_exporter": "python",
   "pygments_lexer": "ipython3",
   "version": "3.9.12"
  }
 },
 "nbformat": 4,
 "nbformat_minor": 5
}
