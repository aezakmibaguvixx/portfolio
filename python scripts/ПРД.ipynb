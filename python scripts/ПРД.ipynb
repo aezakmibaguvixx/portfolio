{
 "cells": [
  {
   "cell_type": "code",
   "execution_count": null,
   "metadata": {},
   "outputs": [],
   "source": [
    "import pandas as pd \n",
    "import csv\n",
    "import pandas as pd\n",
    "import glob\n",
    "import openpyxl\n",
    "path = r'Z:\\8-Отдел анализа данных\\001 - Сотрудники\\10-Чулков З. О\\Заостровский\\merge'\n",
    "all_files = sorted(glob.glob(path + \"/*.csv\")"
   ]
  },
  {
   "cell_type": "code",
   "execution_count": null,
   "metadata": {},
   "outputs": [],
   "source": [
    "li = []\n",
    "for filename in all_files:\n",
    "    try:\n",
    "        df = pd.read_csv(filename, \n",
    "                     sep=';', \n",
    "                     index_col=None, \n",
    "                     header=0,\n",
    "                     dtype=str,\n",
    "                     encoding='utf-8', encoding_errors='ignore', engine='python', on_bad_lines='skip'\n",
    "                    )\n",
    "        li.append(df)\n",
    "    except:\n",
    "        df = pd.read_csv(filename, \n",
    "                     sep=';', \n",
    "                     index_col=None, \n",
    "                     header=0,\n",
    "                     dtype=str,\n",
    "                     encoding='cp1251',\n",
    "                     #encoding_errors='ignore',\n",
    "                     engine='python', on_bad_lines='skip'\n",
    "                    )\n",
    "        li.append(df)"
   ]
  },
  {
   "cell_type": "code",
   "execution_count": null,
   "metadata": {},
   "outputs": [],
   "source": [
    "for i in range(len(li)):\n",
    "    li[i].info()\n",
    "    display(li[i].head(3))"
   ]
  },
  {
   "cell_type": "code",
   "execution_count": null,
   "metadata": {},
   "outputs": [],
   "source": [
    "general = pd.merge(li[0],\n",
    "                   li[1], \n",
    "                   how='left', \n",
    "                   on = ['inn'])\n"
   ]
  },
  {
   "cell_type": "code",
   "execution_count": null,
   "metadata": {},
   "outputs": [],
   "source": [
    "for j in range(2, len(li)):\n",
    "    general = general.merge(li[j], \n",
    "                   how='left', \n",
    "                   on = ['inn']\n",
    "                           )\n",
    "    \n",
    " \n"
   ]
  },
  {
   "cell_type": "code",
   "execution_count": null,
   "metadata": {},
   "outputs": [],
   "source": [
    "general.head()"
   ]
  },
  {
   "cell_type": "code",
   "execution_count": null,
   "metadata": {},
   "outputs": [],
   "source": [
    "path = r'Z:\\8-Отдел анализа данных\\001 - Сотрудники\\05 - Чурахин А.А\\Маняхина-Осташова\\МАМ - стратеги 2 отчет\\Выгрузка'\n",
    "all_files = sorted(glob.glob(path + \"/*.csv\"),\n",
    "                      reverse=False)   \n",
    "\n",
    "\n",
    "li = []\n",
    "for filename in all_files:\n",
    "    try:\n",
    "        df = pd.read_csv(filename, \n",
    "                     sep=';', \n",
    "                     index_col=None, \n",
    "                     header=0,\n",
    "                     dtype=str,\n",
    "                     encoding='cp1251'\n",
    "                    )\n",
    "        li.append(df)\n",
    "    except:\n",
    "        df = pd.read_csv(filename, \n",
    "                     sep=';', \n",
    "                     index_col=None, \n",
    "                     header=0,\n",
    "                     dtype=str,\n",
    "                     #encoding='cp1251'\n",
    "                    )\n",
    "        li.append(df)\n",
    "\n",
    "\n",
    "\n",
    "for i in range(len(li)):\n",
    "    li[i].info()\n",
    "    display(li[i].head(3))\n",
    "\n",
    "\n",
    "general = pd.merge(li[0],\n",
    "                   li[1], \n",
    "                   how='left', \n",
    "                   left_on = ['6.'],\n",
    "                   right_on = ['INN'])\n",
    "general.drop(columns=['INN'], inplace=True)\n",
    "\n",
    "\n",
    "\n",
    "for j in range(2, len(li)):\n",
    "    general = general.merge(li[j], \n",
    "                   how='left', \n",
    "                   left_on = ['6.'],\n",
    "                   right_on = ['inn']\n",
    "                           )\n",
    "    \n",
    "    general.drop(columns=['inn'], inplace=True)\n"
   ]
  }
 ],
 "metadata": {
  "interpreter": {
   "hash": "464f91bbef21342966df8aaa7057ea3ab13d34820c5f2ed800db78f86fd43984"
  },
  "kernelspec": {
   "display_name": "Python 3.9.12 ('base')",
   "language": "python",
   "name": "python3"
  },
  "language_info": {
   "codemirror_mode": {
    "name": "ipython",
    "version": 3
   },
   "file_extension": ".py",
   "mimetype": "text/x-python",
   "name": "python",
   "nbconvert_exporter": "python",
   "pygments_lexer": "ipython3",
   "version": "3.9.12"
  },
  "orig_nbformat": 4
 },
 "nbformat": 4,
 "nbformat_minor": 2
}
