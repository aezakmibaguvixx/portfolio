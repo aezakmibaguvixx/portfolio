{
 "cells": [
  {
   "cell_type": "markdown",
   "metadata": {},
   "source": [
    "###ТУ\n"
   ]
  },
  {
   "cell_type": "code",
   "execution_count": null,
   "metadata": {},
   "outputs": [],
   "source": [
    "import pandas as pd\n",
    "import csv\n",
    "import io\n",
    "df = pd.read_csv(r\"Z:\\8-Отдел анализа данных\\001 - Сотрудники\\10-Чулков З. О\\На неделю\\Понедельник\\По письму для Задковой ТУ скрипты ГНИВЦА #GNIVC_TY\\15.12\\Скрипт выгрузки ТУ на утверждении в ПЗ ГНИВЦ.csv\", sep = ';', dtype=str,  encoding = 'cp1251',encoding_errors='ignore', engine='python', on_bad_lines='skip')"
   ]
  },
  {
   "cell_type": "code",
   "execution_count": null,
   "metadata": {},
   "outputs": [],
   "source": [
    "df.head()\n"
   ]
  },
  {
   "cell_type": "code",
   "execution_count": null,
   "metadata": {},
   "outputs": [],
   "source": [
    "df['Дата ТУ'] = pd.to_datetime(df['Дата ТУ'],dayfirst=True).dt.date\n",
    "df['Срок исполнения ТУ'] = pd.to_datetime(df['Срок исполнения ТУ'],dayfirst=True).dt.date\n"
   ]
  },
  {
   "cell_type": "code",
   "execution_count": null,
   "metadata": {},
   "outputs": [],
   "source": [
    "df['Сумма на момент формирования'] = df['Сумма на момент формирования'].str.replace(',','.').astype (float)\n",
    "df['Текущая сумма задолженности'] = df['Текущая сумма задолженности'].str.replace(',','.').astype (float)"
   ]
  },
  {
   "cell_type": "code",
   "execution_count": null,
   "metadata": {},
   "outputs": [],
   "source": [
    "df.to_excel(r'Z:\\8-Отдел анализа данных\\001 - Сотрудники\\10-Чулков З. О\\На неделю\\Понедельник\\\\Скрипт выгрузки ТУ на утверждении в ПЗ ГНИВЦ.xlsx',index=False)"
   ]
  },
  {
   "cell_type": "markdown",
   "metadata": {},
   "source": [
    "##ИО\n"
   ]
  },
  {
   "cell_type": "code",
   "execution_count": null,
   "metadata": {},
   "outputs": [],
   "source": [
    "import pandas as pd\n",
    "import csv\n",
    "import io\n",
    "df = pd.read_csv(r\"Z:\\8-Отдел анализа данных\\001 - Сотрудники\\10-Чулков З. О\\На неделю\\Понедельник\\По письму для Задковой ТУ скрипты ГНИВЦА #GNIVC_TY\\15.12\\Скрипты кандидаты ИО от 3000 ТУ.csv\", sep = ';', dtype=str,  encoding = 'cp1251',encoding_errors='ignore', engine='python', on_bad_lines='skip')"
   ]
  },
  {
   "cell_type": "code",
   "execution_count": null,
   "metadata": {},
   "outputs": [],
   "source": [
    "df.head()"
   ]
  },
  {
   "cell_type": "code",
   "execution_count": null,
   "metadata": {},
   "outputs": [],
   "source": [
    "df.iloc[:,5] = df.iloc[:,5].str.replace(',','.').astype (float)\n",
    "df['Дата образования отрицательног'] = pd.to_datetime(df['Дата образования отрицательног'],dayfirst=True).dt.date\n"
   ]
  },
  {
   "cell_type": "code",
   "execution_count": null,
   "metadata": {},
   "outputs": [],
   "source": [
    "df.to_excel(r'Z:\\8-Отдел анализа данных\\001 - Сотрудники\\10-Чулков З. О\\На неделю\\Понедельник\\\\Скрипты кандидаты ИО от 3000 ТУ.xlsx',index=False)"
   ]
  },
  {
   "cell_type": "markdown",
   "metadata": {},
   "source": [
    "##ФЛ"
   ]
  },
  {
   "cell_type": "code",
   "execution_count": null,
   "metadata": {},
   "outputs": [],
   "source": [
    "import pandas as pd\n",
    "import csv\n",
    "import io\n",
    "df = pd.read_csv(r\"Z:\\8-Отдел анализа данных\\001 - Сотрудники\\10-Чулков З. О\\На неделю\\Понедельник\\По письму для Задковой ТУ скрипты ГНИВЦА #GNIVC_TY\\15.12\\Скрипты кандидаты ФЛ от 3000 ТУ-.csv\", sep = ';', dtype=str,  encoding = 'cp1251',encoding_errors='ignore', engine='python', on_bad_lines='skip')"
   ]
  },
  {
   "cell_type": "code",
   "execution_count": null,
   "metadata": {},
   "outputs": [],
   "source": [
    "df.head()"
   ]
  },
  {
   "cell_type": "code",
   "execution_count": null,
   "metadata": {},
   "outputs": [],
   "source": [
    "df.info()"
   ]
  },
  {
   "cell_type": "code",
   "execution_count": null,
   "metadata": {},
   "outputs": [],
   "source": [
    "\n",
    "df['Сумма актуального отрицательно'] = df['Сумма актуального отрицательно'].str.replace(',','.').astype (float)\n",
    "df['Дата образования отрицательног'] = pd.to_datetime(df['Дата образования отрицательног'],dayfirst=True).dt.date\n"
   ]
  },
  {
   "cell_type": "code",
   "execution_count": null,
   "metadata": {},
   "outputs": [],
   "source": [
    "def floating(dt, col):\n",
    "    dt[col] = dt[col].replace(',', '.', regex=True).astype(float).fillna(0.0)\n",
    "    pd.options.display.float_format = '{:.2f}'.format\n",
    "    \n",
    "#floating(df, 'Общее сальдо ЕНС') #перевод столбца в формат float\n",
    "\n",
    "\n",
    "\n",
    "chunk_size = 800000 # количество строк\n",
    "num_chunks = len(df) // chunk_size + 1 # количество частей\n",
    "num_chunks\n",
    "\n",
    "\n",
    "\n",
    "for i in range(num_chunks):\n",
    "    start = i * chunk_size # разбиение датафрейма на части и сохранение каждой части в файл Excel\n",
    "    end = (i + 1) * chunk_size\n",
    "    chunk = df.iloc[start:end] # выбор части датафрейма\n",
    "    filename = fr'Z:\\8-Отдел анализа данных\\001 - Сотрудники\\10-Чулков З. О\\На неделю\\Понедельник\\\\Скрипты кандидаты ФЛ от 3000 ТУ_{i+1}.xlsx' \n",
    "    chunk.to_excel(filename, index=False) #сохранение части в файл Excel"
   ]
  },
  {
   "cell_type": "code",
   "execution_count": null,
   "metadata": {},
   "outputs": [],
   "source": [
    "df.to_excel(r'Z:\\8-Отдел анализа данных\\001 - Сотрудники\\10-Чулков З. О\\На неделю\\Понедельник\\\\Скрипты кандидаты ФЛ от 3000 ТУ-.xlsx',index=False)"
   ]
  },
  {
   "cell_type": "markdown",
   "metadata": {},
   "source": [
    "##ЮЛ\n"
   ]
  },
  {
   "cell_type": "code",
   "execution_count": null,
   "metadata": {},
   "outputs": [],
   "source": [
    "import pandas as pd\n",
    "import csv\n",
    "import io\n",
    "df = pd.read_csv(r\"Z:\\8-Отдел анализа данных\\001 - Сотрудники\\10-Чулков З. О\\На неделю\\Понедельник\\По письму для Задковой ТУ скрипты ГНИВЦА #GNIVC_TY\\15.12\\Скрипты кандидаты ЮЛ от 3000 ТУ.csv\", sep = ';', dtype=str,  encoding = 'cp1251',encoding_errors='ignore', engine='python', on_bad_lines='skip')"
   ]
  },
  {
   "cell_type": "code",
   "execution_count": null,
   "metadata": {},
   "outputs": [],
   "source": [
    "df.head()"
   ]
  },
  {
   "cell_type": "code",
   "execution_count": null,
   "metadata": {},
   "outputs": [],
   "source": [
    "df['Сумма актуального отрицательно'] = df['Сумма актуального отрицательно'].str.replace(',','.').astype (float)\n",
    "df['Дата образования отрицательног'] = pd.to_datetime(df['Дата образования отрицательног'],dayfirst=True).dt.date\n"
   ]
  },
  {
   "cell_type": "code",
   "execution_count": null,
   "metadata": {},
   "outputs": [],
   "source": [
    "df.to_excel(r'Z:\\8-Отдел анализа данных\\001 - Сотрудники\\10-Чулков З. О\\На неделю\\Понедельник\\\\Скрипты кандидаты ЮЛ от 3000 ТУ.xlsx',index=False)"
   ]
  }
 ],
 "metadata": {
  "interpreter": {
   "hash": "464f91bbef21342966df8aaa7057ea3ab13d34820c5f2ed800db78f86fd43984"
  },
  "kernelspec": {
   "display_name": "Python 3.9.12 ('base')",
   "language": "python",
   "name": "python3"
  },
  "language_info": {
   "codemirror_mode": {
    "name": "ipython",
    "version": 3
   },
   "file_extension": ".py",
   "mimetype": "text/x-python",
   "name": "python",
   "nbconvert_exporter": "python",
   "pygments_lexer": "ipython3",
   "version": "3.9.12"
  },
  "orig_nbformat": 4
 },
 "nbformat": 4,
 "nbformat_minor": 2
}
