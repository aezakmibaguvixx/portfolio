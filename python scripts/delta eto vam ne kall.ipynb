{
 "cells": [
  {
   "cell_type": "code",
   "execution_count": null,
   "metadata": {},
   "outputs": [],
   "source": [
    "import pandas as pd\n",
    "import csv\n",
    "import io \n",
    "df = pd.read_csv(r\"Z:\\8-Отдел анализа данных\\001 - Сотрудники\\10-Чулков З. О\\На неделю\\Ежедневно\\Дельта\\декабрь\\14.12\\bss_mmv_delta_daily_jour_ENS_v2_1-.csv\", sep = ';', dtype=str,  encoding = 'cp1251',encoding_errors='ignore',                      \n",
    "                   engine=\"python\", on_bad_lines=\"skip\") # 'cp1251'"
   ]
  },
  {
   "cell_type": "code",
   "execution_count": null,
   "metadata": {},
   "outputs": [],
   "source": [
    "df.head()\n"
   ]
  },
  {
   "cell_type": "code",
   "execution_count": null,
   "metadata": {},
   "outputs": [],
   "source": [
    "df['FID'] = df['FID'].str.replace(\"'\",'')\n",
    "df['KBK_ISTOCH'] = df['KBK_ISTOCH'].str.replace(\"'\",'')\n",
    "df['TP_ID'] = df['TP_ID'].str.replace(\"'\",'')\n",
    "df['KBK'] = df['KBK'].str.replace(\"'\",'')"
   ]
  },
  {
   "cell_type": "code",
   "execution_count": null,
   "metadata": {},
   "outputs": [],
   "source": [
    "df.rename(columns={'i?\"DATA_ZAP\"':'DATA_ZAP'},inplace=True)"
   ]
  },
  {
   "cell_type": "code",
   "execution_count": null,
   "metadata": {},
   "outputs": [],
   "source": [
    "df['DAILY_MINUS'] = df['DAILY_MINUS'].str.replace(',','.').astype (float)\n",
    "df['DAILY_PLUS'] = df['DAILY_PLUS'].str.replace(',','.').astype (float)\n",
    "df['DELTA'] = df['DELTA'].str.replace(',','.').astype (float)\n",
    "df['OVP_SUM'] = df['OVP_SUM'].str.replace(',','.').astype (float)"
   ]
  },
  {
   "cell_type": "code",
   "execution_count": null,
   "metadata": {},
   "outputs": [],
   "source": [
    "df['DATA_ZAP'] = pd.to_datetime(df['DATA_ZAP'],dayfirst=True).dt.date\n",
    "df['CREATION_DATE'] = pd.to_datetime(df['CREATION_DATE'],dayfirst=True).dt.date\n"
   ]
  },
  {
   "cell_type": "code",
   "execution_count": null,
   "metadata": {},
   "outputs": [],
   "source": [
    "df.info()\n",
    "df.head()"
   ]
  },
  {
   "cell_type": "code",
   "execution_count": null,
   "metadata": {},
   "outputs": [],
   "source": [
    "mapping = {\n",
    "    'DATA_ZAP':'Дата зачета',\n",
    "    'FID':'ФИД',\n",
    "    'INN':'ИНН',\n",
    "    'DAILY_MINUS':'Минус',\n",
    "    'DAILY_PLUS':'Плюс',\n",
    "    'DELTA':'Дельта',\n",
    "    'KBK_ISTOCH':'КБК',\n",
    "    'REGION_UJ2':'Регион',\n",
    "    'RWS':'ОКТМО',\n",
    "    'CREATION_DATE':'CREATION_DATE',\n",
    "    'TP_ID':'TP_ID',\n",
    "    'NAME':'Первоначальная операция зачета',\n",
    "    'NAME2':'Результирующая операция зачета',\n",
    "    'OVP_SUM':'OVP_SUM',\n",
    "    'REGION':'Регион',\n",
    "    'KBK':'КБК',\n",
    "    }\n",
    "df.rename(columns = mapping, inplace=True)\n",
    "df.info()"
   ]
  },
  {
   "cell_type": "code",
   "execution_count": null,
   "metadata": {},
   "outputs": [],
   "source": [
    "df.to_excel(r'Z:\\8-Отдел анализа данных\\001 - Сотрудники\\10-Чулков З. О\\На неделю\\Ежедневно\\Дельта\\декабрь\\08.12\\\\Изменения в журнале зачетов на 07.12.2023.xlsx',index=False)"
   ]
  },
  {
   "cell_type": "code",
   "execution_count": null,
   "metadata": {},
   "outputs": [],
   "source": [
    "df_2 = pd.read_excel(r\"Z:\\8-Отдел анализа данных\\001 - Сотрудники\\10-Чулков З. О\\На неделю\\Ежедневно\\Дельта\\декабрь\\15.12\\5_2_15_12_2023.xlsx\", dtype=str)"
   ]
  },
  {
   "cell_type": "code",
   "execution_count": null,
   "metadata": {},
   "outputs": [],
   "source": [
    "df_2 = pd.read_csv(r\"Z:\\8-Отдел анализа данных\\001 - Сотрудники\\10-Чулков З. О\\На неделю\\Ежедневно\\Дельта\\янв\\17.01\\5_2_17.csv\", sep = ';', dtype=str,  encoding = 'utf-8',encoding_errors='ignore',                      \n",
    "                   engine=\"python\", on_bad_lines=\"skip\") # 'cp1251'"
   ]
  },
  {
   "cell_type": "code",
   "execution_count": null,
   "metadata": {},
   "outputs": [],
   "source": [
    "df_2['FID'] = df_2['FID'].str.replace(\"'\",'')\n",
    "df_2['KBK_ISTOCH'] = df_2['KBK_ISTOCH'].str.replace(\"'\",'')\n",
    "df_2['TP_ID'] = df_2['TP_ID'].str.replace(\"'\",'')\n",
    "df_2['KBK'] = df_2['KBK'].str.replace(\"'\",'')"
   ]
  },
  {
   "cell_type": "code",
   "execution_count": null,
   "metadata": {},
   "outputs": [],
   "source": [
    "df_2.head()"
   ]
  },
  {
   "cell_type": "code",
   "execution_count": null,
   "metadata": {},
   "outputs": [],
   "source": [
    "df_2.rename(columns={'i?\"DATA_ZAP\"':'DATA_ZAP'},inplace=True)"
   ]
  },
  {
   "cell_type": "code",
   "execution_count": null,
   "metadata": {},
   "outputs": [],
   "source": [
    "df_2['DAILY_MINUS'] = df_2['DAILY_MINUS'].str.replace(',','.').astype (float)\n",
    "df_2['DAILY_PLUS'] = df_2['DAILY_PLUS'].str.replace(',','.').astype (float)\n",
    "df_2['DELTA'] = df_2['DELTA'].str.replace(',','.').astype (float)\n",
    "df_2['OVP_SUM'] = df_2['OVP_SUM'].str.replace(',','.').astype (float)"
   ]
  },
  {
   "cell_type": "code",
   "execution_count": null,
   "metadata": {},
   "outputs": [],
   "source": [
    "df_2.head()"
   ]
  },
  {
   "cell_type": "code",
   "execution_count": null,
   "metadata": {},
   "outputs": [],
   "source": [
    "df_2.rename(columns={'i?\"DATA_ZAP\"':'DATA_ZAP'},inplace=True)"
   ]
  },
  {
   "cell_type": "code",
   "execution_count": null,
   "metadata": {},
   "outputs": [],
   "source": [
    "df_2['DATA_ZAP'] = pd.to_datetime(df_2['DATA_ZAP'],dayfirst=True).dt.date\n",
    "df_2['CREATION_DATE'] = pd.to_datetime(df_2['CREATION_DATE'],dayfirst=True).dt.date"
   ]
  },
  {
   "cell_type": "code",
   "execution_count": null,
   "metadata": {},
   "outputs": [],
   "source": [
    "df_2.info()"
   ]
  },
  {
   "cell_type": "code",
   "execution_count": null,
   "metadata": {},
   "outputs": [],
   "source": [
    "df_2['NAME'] = df_2['NAME'].astype(str)\n",
    "df_2['NAME2'] = df_2['NAME2'].astype(str)"
   ]
  },
  {
   "cell_type": "code",
   "execution_count": null,
   "metadata": {},
   "outputs": [],
   "source": [
    "def concatenate_strings(row):\n",
    "    return row ['NAME']  + ';' + row['NAME2']\n",
    "df_2['ccc'] = df_2.apply(concatenate_strings,axis=1)"
   ]
  },
  {
   "cell_type": "code",
   "execution_count": null,
   "metadata": {},
   "outputs": [],
   "source": [
    "df_2.head()"
   ]
  },
  {
   "cell_type": "code",
   "execution_count": null,
   "metadata": {},
   "outputs": [],
   "source": [
    "table = pd.read_excel(r\"Z:\\8-Отдел анализа данных\\001 - Сотрудники\\10-Чулков З. О\\На неделю\\Ежедневно\\ens\\Операции_с_учетом_пожеланий_Минфина.xlsx\")"
   ]
  },
  {
   "cell_type": "code",
   "execution_count": null,
   "metadata": {},
   "outputs": [],
   "source": [
    "table.head()"
   ]
  },
  {
   "cell_type": "code",
   "execution_count": null,
   "metadata": {},
   "outputs": [],
   "source": [
    "table.rename(columns={'Уникальные пары операций':'ccc'},inplace=True)"
   ]
  },
  {
   "cell_type": "code",
   "execution_count": null,
   "metadata": {},
   "outputs": [],
   "source": [
    "table.head()"
   ]
  },
  {
   "cell_type": "code",
   "execution_count": null,
   "metadata": {},
   "outputs": [],
   "source": [
    "vpr = df_2.merge(table, on='ccc', how = 'left')\n",
    "vpr['Наименование операции с учетом пожеланий ФО'].fillna('',inplace=True)\n"
   ]
  },
  {
   "cell_type": "code",
   "execution_count": null,
   "metadata": {},
   "outputs": [],
   "source": [
    "vpr.head()\n"
   ]
  },
  {
   "cell_type": "code",
   "execution_count": null,
   "metadata": {},
   "outputs": [],
   "source": [
    "vpr = vpr.drop('ccc',axis=1)"
   ]
  },
  {
   "cell_type": "code",
   "execution_count": null,
   "metadata": {},
   "outputs": [],
   "source": [
    "vpr = vpr.drop('Количество (с 01.06 по 29.06)',axis=1)\n",
    "vpr = vpr.drop('Количество (с 30.06 по 03.07)',axis=1)\n",
    "vpr = vpr.drop('Обобщенная причина поднятия перплаты на ЕНП',axis=1)"
   ]
  },
  {
   "cell_type": "code",
   "execution_count": null,
   "metadata": {},
   "outputs": [],
   "source": [
    "vpr.head()"
   ]
  },
  {
   "cell_type": "code",
   "execution_count": null,
   "metadata": {},
   "outputs": [],
   "source": [
    "vpr=vpr.astype(str)"
   ]
  },
  {
   "cell_type": "code",
   "execution_count": null,
   "metadata": {},
   "outputs": [],
   "source": [
    "vpr['DAILY_MINUS'] = vpr['DAILY_MINUS'].str.replace(',','.').astype (float)\n",
    "vpr['DAILY_PLUS'] = vpr['DAILY_PLUS'].str.replace(',','.').astype (float)\n",
    "vpr['DELTA'] = vpr['DELTA'].str.replace(',','.').astype (float)\n",
    "vpr['OVP_SUM'] = vpr['OVP_SUM'].str.replace(',','.').astype (float)"
   ]
  },
  {
   "cell_type": "code",
   "execution_count": null,
   "metadata": {},
   "outputs": [],
   "source": [
    "vpr['DATA_ZAP'] = pd.to_datetime(vpr['DATA_ZAP'],dayfirst=True).dt.date\n",
    "vpr['CREATION_DATE'] = pd.to_datetime(vpr['CREATION_DATE'],dayfirst=True).dt.date\n"
   ]
  },
  {
   "cell_type": "code",
   "execution_count": null,
   "metadata": {},
   "outputs": [],
   "source": []
  },
  {
   "cell_type": "code",
   "execution_count": null,
   "metadata": {},
   "outputs": [],
   "source": [
    "vpr.rename(columns = mapping, inplace=True)\n",
    "vpr.info()"
   ]
  },
  {
   "cell_type": "code",
   "execution_count": null,
   "metadata": {},
   "outputs": [],
   "source": [
    "vpr.rename(columns={'OKTMMF':'ОКТМО'},inplace=True)"
   ]
  },
  {
   "cell_type": "code",
   "execution_count": null,
   "metadata": {},
   "outputs": [],
   "source": [
    "vpr.head()"
   ]
  },
  {
   "cell_type": "code",
   "execution_count": null,
   "metadata": {},
   "outputs": [],
   "source": []
  },
  {
   "cell_type": "code",
   "execution_count": null,
   "metadata": {},
   "outputs": [],
   "source": [
    "vpr.to_excel(r'Z:\\8-Отдел анализа данных\\001 - Сотрудники\\10-Чулков З. О\\На неделю\\Ежедневно\\Дельта\\янв\\17.01\\\\Невыгруженные 17.01.24.xlsx',index=False)"
   ]
  }
 ],
 "metadata": {
  "interpreter": {
   "hash": "464f91bbef21342966df8aaa7057ea3ab13d34820c5f2ed800db78f86fd43984"
  },
  "kernelspec": {
   "display_name": "Python 3.9.12 ('base')",
   "language": "python",
   "name": "python3"
  },
  "language_info": {
   "codemirror_mode": {
    "name": "ipython",
    "version": 3
   },
   "file_extension": ".py",
   "mimetype": "text/x-python",
   "name": "python",
   "nbconvert_exporter": "python",
   "pygments_lexer": "ipython3",
   "version": "3.9.12"
  },
  "orig_nbformat": 4
 },
 "nbformat": 4,
 "nbformat_minor": 2
}
