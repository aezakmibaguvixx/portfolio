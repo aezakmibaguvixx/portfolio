{
 "cells": [
  {
   "cell_type": "code",
   "execution_count": null,
   "metadata": {},
   "outputs": [],
   "source": [
    "import pandas as pd\n",
    "import os\n",
    " \n",
    "# Загрузка данных из Excel файла\n",
    "df = pd.read_excel('ваш_файл.xlsx')\n",
    " \n",
    "# Указание пути к директории для сохранения файлов\n",
    "output_directory = '/полный/путь/к/вашей/директории/'\n",
    " \n",
    "# Создание отдельных файлов Excel для каждого уникального значения из первого столбца\n",
    "for unique_value in df['первый_столбец'].unique():\n",
    "    # Выбор строк, соответствующих уникальному значению\n",
    "    subset = df[df['первый_столбец'] == unique_value]\n",
    "    \n",
    "    # Создание нового Excel файла с именем, основанным на уникальном значении\n",
    "    file_name = os.path.join(output_directory, f'{unique_value}_file.xlsx')\n",
    "    \n",
    "    # Сохранение подмножества в новый файл Excel\n",
    "    subset.to_excel(file_name, index=False)"
   ]
  },
  {
   "cell_type": "code",
   "execution_count": null,
   "metadata": {},
   "outputs": [],
   "source": [
    "import pandas as pd\n",
    " \n",
    "# Загрузка данных из Excel файла\n",
    "df = pd.read_excel(\"C:\\Список ОПК.xlsx\",dtype=str)"
   ]
  },
  {
   "cell_type": "code",
   "execution_count": null,
   "metadata": {},
   "outputs": [],
   "source": [
    "df.head()"
   ]
  },
  {
   "cell_type": "code",
   "execution_count": null,
   "metadata": {},
   "outputs": [],
   "source": [
    "output_directory = r'Z:\\Общая папка МИ по УД\\08_ОАД\\002 - Взаимодействие со смежными отделами\\Отдел 17 (Задкова М.В.) - ОКСПиСПМВЗФЛ\\Денис\\Новая папка'"
   ]
  },
  {
   "cell_type": "code",
   "execution_count": null,
   "metadata": {},
   "outputs": [],
   "source": [
    "for unique_value in df['УФНС/КН'].unique():\n",
    "    # Выбор строк, соответствующих уникальному значению\n",
    "    subset = df[df['УФНС/КН'] == unique_value]\n",
    "    \n",
    "    # Создание нового Excel файла с именем, основанным на уникальном значении\n",
    "    file_name = os.path.join(output_directory, f'{unique_value}_file.xlsx')\n",
    "    \n",
    "    # Сохранение подмножества в новый файл Excel\n",
    "    subset.to_excel(file_name, index=False)"
   ]
  }
 ],
 "metadata": {
  "interpreter": {
   "hash": "464f91bbef21342966df8aaa7057ea3ab13d34820c5f2ed800db78f86fd43984"
  },
  "kernelspec": {
   "display_name": "Python 3.9.12 ('base')",
   "language": "python",
   "name": "python3"
  },
  "language_info": {
   "codemirror_mode": {
    "name": "ipython",
    "version": 3
   },
   "file_extension": ".py",
   "mimetype": "text/x-python",
   "name": "python",
   "nbconvert_exporter": "python",
   "pygments_lexer": "ipython3",
   "version": "3.9.12"
  },
  "orig_nbformat": 4
 },
 "nbformat": 4,
 "nbformat_minor": 2
}
