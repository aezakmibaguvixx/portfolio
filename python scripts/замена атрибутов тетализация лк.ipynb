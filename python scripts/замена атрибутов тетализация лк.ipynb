{
 "cells": [
  {
   "cell_type": "code",
   "execution_count": null,
   "id": "1e88b42c",
   "metadata": {},
   "outputs": [],
   "source": []
  },
  {
   "cell_type": "code",
   "execution_count": null,
   "id": "21250c69",
   "metadata": {},
   "outputs": [],
   "source": [
    "%%time\n",
    "import pandas as pd\n",
    "import os,shutil\n",
    "from datetime import datetime\n",
    "from datetime import timedelta\n",
    "from datetime import date\n",
    "pd.options.display.float_format='{:,.2f}'.format\n",
    "#df = pd.read_excel(r\"C:\\Users\\9967-00-345\\Desktop\\ЕНС-100000\\99.xlsx\", dtype=str)\n",
    "df = pd.read_csv(r\"C:\\Users\\9967-00-443\\Desktop\\клэф\\V4 7700-.csv\", sep = ';', dtype=str, encoding = 'utf-8')#,encoding_errors='ignore',                      \n",
    "                   #engine=\"python\", on_bad_lines=\"skip\") # 'cp1251'\n",
    "df.head(4)"
   ]
  },
  {
   "cell_type": "code",
   "execution_count": null,
   "id": "e77a3161",
   "metadata": {},
   "outputs": [],
   "source": [
    "df.info()"
   ]
  },
  {
   "cell_type": "code",
   "execution_count": null,
   "id": "160a162a",
   "metadata": {},
   "outputs": [],
   "source": [
    "df.rename(columns={'i�?SYSDATE\"\"':'SYSDATE'},inplace=True)"
   ]
  },
  {
   "cell_type": "code",
   "execution_count": null,
   "id": "5098fc93",
   "metadata": {},
   "outputs": [],
   "source": [
    "df.head(4)"
   ]
  },
  {
   "cell_type": "code",
   "execution_count": null,
   "id": "8a1b9783",
   "metadata": {},
   "outputs": [],
   "source": [
    "def floating(dt, col):\n",
    "    dt[col] = dt[col].replace(',', '.', regex=True).astype(float).fillna(0.0)\n",
    "    pd.options.display.float_format = '{:.2f}'.format\n",
    "    \n",
    "floating(df, 'Общее сальдо ЕНС') #перевод столбца в формат float"
   ]
  },
  {
   "cell_type": "code",
   "execution_count": null,
   "id": "aa74c634",
   "metadata": {},
   "outputs": [],
   "source": [
    "chunk_size = 700000 # количество строк\n",
    "num_chunks = len(combined) // chunk_size + 1 # количество частей\n",
    "num_chunks\n",
    "\n",
    "\n",
    "\n",
    "for i in range(num_chunks):\n",
    "    start = i * chunk_size # разбиение датафрейма на части и сохранение каждой части в файл Excel\n",
    "    end = (i + 1) * chunk_size\n",
    "    chunk = combined.iloc[start:end] # выбор части датафрейма\n",
    "    filename = fr\"Z:\\8-Отдел анализа данных\\001 - Сотрудники\\10-Чулков З. О\\свод\\Новая папка\\\\svod_{i+1}.xlsx\" \n",
    "    chunk.to_excel(filename, index=False) #сохранение части в файл Excel"
   ]
  }
 ],
 "metadata": {
  "kernelspec": {
   "display_name": "Python 3 (ipykernel)",
   "language": "python",
   "name": "python3"
  },
  "language_info": {
   "codemirror_mode": {
    "name": "ipython",
    "version": 3
   },
   "file_extension": ".py",
   "mimetype": "text/x-python",
   "name": "python",
   "nbconvert_exporter": "python",
   "pygments_lexer": "ipython3",
   "version": "3.9.12"
  }
 },
 "nbformat": 4,
 "nbformat_minor": 5
}
