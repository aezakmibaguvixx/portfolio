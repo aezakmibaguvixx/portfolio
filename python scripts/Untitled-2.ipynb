{
 "cells": [
  {
   "cell_type": "code",
   "execution_count": null,
   "metadata": {},
   "outputs": [],
   "source": [
    "%%time\n",
    "import pandas as pd\n",
    "import os,shutil\n",
    "from datetime import datetime\n",
    "from datetime import timedelta\n",
    "from datetime import date\n",
    "gol = pd.read_excel(r\"Z:\\Общая папка МИ по УД\\08_ОАД\\002 - Взаимодействие со смежными отделами\\Отдел 11 (Гутнова М.В.) Отдел дистанционного мониторинга процедур банкротства\\_Статусы\\2023\\11.2023\\20.11.2023\\первыййй.xlsx\", dtype=str)"
   ]
  },
  {
   "cell_type": "code",
   "execution_count": null,
   "metadata": {},
   "outputs": [],
   "source": [
    "%%time\n",
    "import pandas as pd\n",
    "import os,shutil\n",
    "from datetime import datetime\n",
    "from datetime import timedelta\n",
    "from datetime import date\n",
    "kuda = pd.read_excel(r\"Z:\\Общая папка МИ по УД\\08_ОАД\\002 - Взаимодействие со смежными отделами\\Отдел 11 (Гутнова М.В.) Отдел дистанционного мониторинга процедур банкротства\\_Статусы\\2023\\11.2023\\20.11.2023\\GMV_1_1_4_s-добавить столбец сюда.xlsx\", dtype=str)"
   ]
  },
  {
   "cell_type": "code",
   "execution_count": null,
   "metadata": {},
   "outputs": [],
   "source": [
    "gol.info()"
   ]
  },
  {
   "cell_type": "code",
   "execution_count": null,
   "metadata": {},
   "outputs": [],
   "source": [
    "kuda.info()"
   ]
  },
  {
   "cell_type": "code",
   "execution_count": null,
   "metadata": {},
   "outputs": [],
   "source": [
    "vpr = kuda.merge(gol[['TP_INN','DOC_DATE_CA']], how = 'left',left_on = 'ИНН', right_on = 'TP_INN')"
   ]
  },
  {
   "cell_type": "code",
   "execution_count": null,
   "metadata": {},
   "outputs": [],
   "source": [
    "vpr = vpr.drop('TP_INN',axis=1)"
   ]
  },
  {
   "cell_type": "code",
   "execution_count": null,
   "metadata": {},
   "outputs": [],
   "source": [
    "vpr.info()"
   ]
  },
  {
   "cell_type": "code",
   "execution_count": null,
   "metadata": {},
   "outputs": [],
   "source": [
    "vpr['Тип НП'] = vpr['Тип НП'].str.replace(',','.').astype (float)\n",
    "vpr['Статус на момент принятия реше'] = vpr['Статус на момент принятия реше'].str.replace(',','.').astype (float)\n",
    "vpr['Статус должника'] = vpr['Статус должника'].str.replace(',','.').astype (float)\n",
    "vpr['ID группы должника на момент п'] = vpr['ID группы должника на момент п'].str.replace(',','.').astype (float)\n",
    "vpr['Группа должника (351)'] = vpr['Группа должника (351)'].str.replace(',','.').astype (float)\n",
    "vpr['Id категории на момент приняти'] = vpr['Id категории на момент приняти'].str.replace(',','.').astype (float)\n",
    "vpr['Отнесен к особой категории (0'] = vpr['Отнесен к особой категории (0'].str.replace(',','.').astype (float)\n",
    "vpr['Уровень сопровождения дела о б'] = vpr['Уровень сопровождения дела о б'].str.replace(',','.').astype (float)\n",
    "vpr['Категория с приказом ФНС №СА-2'] = vpr['Категория с приказом ФНС №СА-2'].str.replace(',','.').astype (float)\n",
    "vpr['Состояние решения'] = vpr['Состояние решения'].str.replace(',','.').astype (float)\n",
    "vpr['стн'] = vpr['стн'].str.replace(',','.').astype (float)\n",
    "vpr['номер СРО'] = vpr['номер СРО'].str.replace(',','.').astype (float)\n",
    "vpr['Id арбитражного суда'] = vpr['Id арбитражного суда'].str.replace(',','.').astype (float)\n",
    "vpr['дней'] = vpr['дней'].str.replace(',','.').astype (float)\n",
    "vpr['OKNO'] = vpr['OKNO'].str.replace(',','.').astype (float)\n"
   ]
  },
  {
   "cell_type": "code",
   "execution_count": null,
   "metadata": {},
   "outputs": [],
   "source": [
    "vpr['DOC_DATE_CA'] = pd.to_datetime(vpr['DOC_DATE_CA'],dayfirst=True).dt.date\n",
    "vpr['Дата заявления в вышестоящий Н'] = pd.to_datetime(vpr['Дата заявления в вышестоящий Н'],dayfirst=True,errors='coerce').dt.date\n",
    "vpr['Дата принятия решения'] = pd.to_datetime(vpr['Дата принятия решения'],dayfirst=True,errors='coerce').dt.date\n",
    "vpr['Дата направления заявления в с'] = pd.to_datetime(vpr['Дата направления заявления в с'],dayfirst=True,errors='coerce').dt.date\n",
    "vpr['Дата приема заявления судом'] = pd.to_datetime(vpr['Дата приема заявления судом'],dayfirst=True,errors='coerce').dt.date\n",
    "vpr['Срок отложения'] = pd.to_datetime(vpr['Срок отложения'],dayfirst=True,errors='coerce').dt.date\n",
    "vpr['Дата запроса должнику о наличи'] = pd.to_datetime(vpr['Дата запроса должнику о наличи'],dayfirst=True,errors='coerce').dt.date\n",
    "vpr['Дата направления уведомления в'] = pd.to_datetime(vpr['Дата направления уведомления в'],dayfirst=True,errors='coerce').dt.date\n",
    "vpr['Срок утверждения решения'] = pd.to_datetime(vpr['Срок утверждения решения'],dayfirst=True,errors='coerce').dt.date\n",
    "vpr['Дата направления заявления в с'] = pd.to_datetime(vpr['Дата направления заявления в с'],dayfirst=True,errors='coerce').dt.date"
   ]
  },
  {
   "cell_type": "code",
   "execution_count": null,
   "metadata": {},
   "outputs": [],
   "source": [
    "vpr.to_excel(r'Z:\\Общая папка МИ по УД\\08_ОАД\\002 - Взаимодействие со смежными отделами\\Отдел 11 (Гутнова М.В.) Отдел дистанционного мониторинга процедур банкротства\\_Статусы\\2023\\11.2023\\20.11.2023\\GMV_1_1_4_s_V2.xlsx',index=False)"
   ]
  },
  {
   "cell_type": "code",
   "execution_count": null,
   "metadata": {},
   "outputs": [],
   "source": [
    "vpr = kuda.merge(gol[['TP_INN','DOC_DATE_CA']], how = 'left',left_on = 'ИНН', right_on = 'TP_INN')"
   ]
  },
  {
   "cell_type": "code",
   "execution_count": null,
   "metadata": {},
   "outputs": [],
   "source": []
  },
  {
   "cell_type": "code",
   "execution_count": null,
   "metadata": {},
   "outputs": [],
   "source": []
  },
  {
   "cell_type": "code",
   "execution_count": null,
   "metadata": {},
   "outputs": [],
   "source": [
    "import pandas as pd\n",
    "import csv\n",
    "import io \n",
    "df14 = pd.read_csv(r\"C:\\Users\\9967-00-443\\Desktop\\смс\\sms_email-.csv\", sep = ';', dtype=str,  encoding = 'utf-8',encoding_errors='ignore',                      \n",
    "                   engine=\"python\")#)on_bad_lines=\"skip\") # 'cp1251'"
   ]
  },
  {
   "cell_type": "code",
   "execution_count": null,
   "metadata": {},
   "outputs": [],
   "source": [
    "df14.head()"
   ]
  },
  {
   "cell_type": "code",
   "execution_count": null,
   "metadata": {},
   "outputs": [],
   "source": [
    "df14.rename(columns={'1':'TP_INN'},inplace=True)"
   ]
  },
  {
   "cell_type": "code",
   "execution_count": null,
   "metadata": {},
   "outputs": [],
   "source": [
    "df14.rename(columns={df14.columns[1]:'TP_INN'},inplace=True)"
   ]
  },
  {
   "cell_type": "code",
   "execution_count": null,
   "metadata": {},
   "outputs": [],
   "source": [
    "df14.rename(columns={df14.columns[12]:'saldo'},inplace=True)"
   ]
  },
  {
   "cell_type": "code",
   "execution_count": null,
   "metadata": {},
   "outputs": [],
   "source": [
    "df14.head()"
   ]
  },
  {
   "cell_type": "code",
   "execution_count": null,
   "metadata": {},
   "outputs": [],
   "source": [
    "import pandas as pd\n",
    "import csv\n",
    "import io \n",
    "df25 = pd.read_csv(r\"C:\\Users\\9967-00-443\\Desktop\\смс\\смс_11.csv\", sep = ';', dtype=str,  encoding = 'utf-8',encoding_errors='ignore',                      \n",
    "                   engine=\"python\", on_bad_lines=\"skip\") # 'cp1251'"
   ]
  },
  {
   "cell_type": "code",
   "execution_count": null,
   "metadata": {},
   "outputs": [],
   "source": [
    "df25.head()"
   ]
  },
  {
   "cell_type": "code",
   "execution_count": null,
   "metadata": {},
   "outputs": [],
   "source": [
    "df25.rename(columns={df25.columns[12]:'Общий по ЕНС_11'},inplace=True)"
   ]
  },
  {
   "cell_type": "code",
   "execution_count": null,
   "metadata": {},
   "outputs": [],
   "source": [
    "df25.head()"
   ]
  },
  {
   "cell_type": "code",
   "execution_count": null,
   "metadata": {},
   "outputs": [],
   "source": [
    "merged_df = pd.merge(df14,df25[['TP_INN','Общий по ЕНС_11']],on = 'TP_INN', how = 'left')"
   ]
  },
  {
   "cell_type": "code",
   "execution_count": null,
   "metadata": {},
   "outputs": [],
   "source": [
    "merged_df.columns"
   ]
  },
  {
   "cell_type": "code",
   "execution_count": null,
   "metadata": {},
   "outputs": [],
   "source": [
    "merged_df.head()"
   ]
  },
  {
   "cell_type": "code",
   "execution_count": null,
   "metadata": {},
   "outputs": [],
   "source": [
    "merged_df1 = merged_df[['SYSDATE', 'TP_INN', 'TP_FID', 'TP_KPP', 'REQUEST_TAX_ORGAN_CODE',\n",
    "       'PHONE', 'EMAIL', 'Налог', 'Пеня', 'Штраф',\n",
    "       'процент за несвоеврем возврат', 'процент за БС', 'Общий по ЕНС_11', 'ЕНП' ]]"
   ]
  },
  {
   "cell_type": "code",
   "execution_count": null,
   "metadata": {},
   "outputs": [],
   "source": [
    "merged_df1.head()"
   ]
  },
  {
   "cell_type": "code",
   "execution_count": null,
   "metadata": {},
   "outputs": [],
   "source": [
    "merged_df.head()"
   ]
  },
  {
   "cell_type": "code",
   "execution_count": null,
   "metadata": {},
   "outputs": [],
   "source": [
    "merged_df1.info()"
   ]
  },
  {
   "cell_type": "code",
   "execution_count": null,
   "metadata": {},
   "outputs": [],
   "source": [
    "merged_df['Общий по ЕНС'] = merged_df['Общий по ЕНС'].str.replace(',','.').astype (float)"
   ]
  },
  {
   "cell_type": "code",
   "execution_count": null,
   "metadata": {},
   "outputs": [],
   "source": [
    "merged_df['Общий по ЕНС_27'] = merged_df['Общий по ЕНС_27'].str.replace(',','.').astype (float)"
   ]
  },
  {
   "cell_type": "code",
   "execution_count": null,
   "metadata": {},
   "outputs": [],
   "source": [
    "clean = merged_df1.query('EMAIL.notnull()')\n"
   ]
  },
  {
   "cell_type": "code",
   "execution_count": null,
   "metadata": {},
   "outputs": [],
   "source": [
    "clean.head()"
   ]
  },
  {
   "cell_type": "code",
   "execution_count": null,
   "metadata": {},
   "outputs": [],
   "source": [
    "clean.to_csv(r\"C:\\Users\\9967-00-443\\Desktop\\смс\\sms_29.csv\",index=False)"
   ]
  },
  {
   "cell_type": "code",
   "execution_count": null,
   "metadata": {},
   "outputs": [],
   "source": [
    "merged_df['delta'] = merged_df['Общий по ЕНС'] - merged_df['Общий по ЕНС_25']"
   ]
  },
  {
   "cell_type": "code",
   "execution_count": null,
   "metadata": {},
   "outputs": [],
   "source": [
    "merged_df ['menshe0'] = merged_df['delta']<= 0"
   ]
  },
  {
   "cell_type": "code",
   "execution_count": null,
   "metadata": {},
   "outputs": [],
   "source": [
    "def floating(dt, col):\n",
    "    dt[col] = dt[col].replace(',', '.', regex=True).astype(float).fillna(0.0)\n",
    "    pd.options.display.float_format = '{:.2f}'.format\n",
    "    \n",
    "#floating(merged_df, 'Общее сальдо ЕНС') #перевод столбца в формат float\n",
    "\n",
    "\n",
    "\n",
    "chunk_size = 800000 # количество строк\n",
    "num_chunks = len(merged_df) // chunk_size + 1 # количество частей\n",
    "num_chunks\n",
    "\n",
    "\n",
    "\n",
    "for i in range(num_chunks):\n",
    "    start = i * chunk_size # разбиение датафрейма на части и сохранение каждой части в файл Excel\n",
    "    end = (i + 1) * chunk_size\n",
    "    chunk = merged_df.iloc[start:end] # выбор части датафрейма\n",
    "    filename = fr'Z:\\8-Отдел анализа данных\\001 - Сотрудники\\10-Чулков З. О\\боим\\\\sms_25{i+1}.xlsx' \n",
    "    chunk.to_excel(filename, index=False) #сохранение части в файл Excel"
   ]
  },
  {
   "cell_type": "code",
   "execution_count": null,
   "metadata": {},
   "outputs": [],
   "source": [
    "merged_df.to_csv(r'C:\\Users\\9967-00-443\\Desktop\\смс\\\\sms на 11.01.2024.csv',index=False)"
   ]
  },
  {
   "cell_type": "code",
   "execution_count": null,
   "metadata": {},
   "outputs": [],
   "source": []
  },
  {
   "cell_type": "code",
   "execution_count": null,
   "metadata": {},
   "outputs": [],
   "source": []
  },
  {
   "cell_type": "code",
   "execution_count": null,
   "metadata": {},
   "outputs": [],
   "source": []
  },
  {
   "cell_type": "markdown",
   "metadata": {},
   "source": [
    "считываем глобом все эксель файлы в папке "
   ]
  },
  {
   "cell_type": "code",
   "execution_count": null,
   "metadata": {},
   "outputs": [],
   "source": [
    "import pandas as pd \n",
    "import csv\n",
    "import pandas as pd\n",
    "import glob\n",
    "import openpyxl\n",
    "files = [item for item in glob.glob(r\"Z:\\Общая папка МИ по УД\\смс\\Сведения от 18.12.2023 _\\*{}\".format('.xlsx'))]\n",
    "files"
   ]
  },
  {
   "cell_type": "markdown",
   "metadata": {},
   "source": [
    "конкатим все файлы в один "
   ]
  },
  {
   "cell_type": "code",
   "execution_count": null,
   "metadata": {},
   "outputs": [],
   "source": [
    "combined = pd.DataFrame()\n",
    "for file in files:\n",
    "    file = pd.read_excel(file, dtype=str) #sheet_name='Данные 2023') #, #skiprows=1, usecols=['Регион','Выручка'])\n",
    "    #file = file[['Выручка','Регион']]\n",
    "    #file.columns = ['viruchka','region']\n",
    "    combined = pd.concat([combined,file])"
   ]
  },
  {
   "cell_type": "code",
   "execution_count": null,
   "metadata": {},
   "outputs": [],
   "source": [
    "combined.head()"
   ]
  },
  {
   "cell_type": "code",
   "execution_count": null,
   "metadata": {},
   "outputs": [],
   "source": [
    "for i in files:\n",
    "    file = pd.read_excel(i, dtype=str)\n",
    "    display(file.head(2))"
   ]
  },
  {
   "cell_type": "markdown",
   "metadata": {},
   "source": [
    "for i in files:\n",
    "    file = pd.read_excel(i, dtype=str)\n",
    "    display(file.head(2))"
   ]
  },
  {
   "cell_type": "markdown",
   "metadata": {},
   "source": [
    "считываем файл который я сегодня выгружал"
   ]
  },
  {
   "cell_type": "code",
   "execution_count": null,
   "metadata": {},
   "outputs": [],
   "source": [
    "import pandas as pd\n",
    "import csv\n",
    "import io \n",
    "df27 = pd.read_csv(r\"C:\\Users\\9967-00-443\\Desktop\\смс\\СМСКА_27.sql\", sep = ',', dtype=str,  encoding = 'utf-8',encoding_errors='ignore',                      \n",
    "                   engine=\"python\", on_bad_lines=\"skip\") # 'cp1251'"
   ]
  },
  {
   "cell_type": "markdown",
   "metadata": {},
   "source": [
    "мержим по инн только столбец "
   ]
  },
  {
   "cell_type": "code",
   "execution_count": null,
   "metadata": {},
   "outputs": [],
   "source": [
    "merged_df = pd.merge(combined,df27[['TP_INN','Общий по ЕНС_25']],on = 'TP_INN', how = 'left')"
   ]
  },
  {
   "cell_type": "code",
   "execution_count": null,
   "metadata": {},
   "outputs": [],
   "source": [
    "merged_df['delta'] = merged_df['Общий по ЕНС'] - merged_df['Общий по ЕНС_25']"
   ]
  },
  {
   "cell_type": "code",
   "execution_count": null,
   "metadata": {},
   "outputs": [],
   "source": [
    "merged_df ['menshe0'] = merged_df['delta']<= 0"
   ]
  },
  {
   "cell_type": "code",
   "execution_count": null,
   "metadata": {},
   "outputs": [],
   "source": []
  },
  {
   "cell_type": "code",
   "execution_count": null,
   "metadata": {},
   "outputs": [],
   "source": []
  },
  {
   "cell_type": "code",
   "execution_count": null,
   "metadata": {},
   "outputs": [],
   "source": []
  },
  {
   "cell_type": "code",
   "execution_count": null,
   "metadata": {},
   "outputs": [],
   "source": []
  },
  {
   "cell_type": "code",
   "execution_count": null,
   "metadata": {},
   "outputs": [],
   "source": []
  },
  {
   "cell_type": "code",
   "execution_count": null,
   "metadata": {},
   "outputs": [],
   "source": []
  },
  {
   "cell_type": "code",
   "execution_count": null,
   "metadata": {},
   "outputs": [],
   "source": [
    "import pandas as pd\n",
    "import re\n",
    "import csv\n",
    "\n",
    "\n",
    "def numbers(path_to_file, delimiter, name_new_file):\n",
    "\n",
    "    df = pd.read_csv(path_to_file, delimiter=delimiter, dtype=str)\n",
    "    df['PHONE'].fillna('', inplace=True)\n",
    "    df['PHONE'] = df['PHONE'].apply(\n",
    "        lambda x: '+' + str(x).replace(r'[^0-9]', '') if pd.notna(x) and str(x).strip() else '')\n",
    "    df['PHONE'] = df['PHONE'].apply(lambda x: re.sub(r'^8', '+7', str(x)))\n",
    "    df['PHONE'] = df['PHONE'].str.replace('+', '', 1)\n",
    "\n",
    "    def phone_format(phone):\n",
    "        if pd.isna(phone):\n",
    "            return ''\n",
    "        elif re.match(r'^\\+79\\d{9}$', phone):\n",
    "            return 'Корректный формат'\n",
    "        else:\n",
    "            return 'Некорректный формат'\n",
    "\n",
    "    df['current'] = df['PHONE'].apply(phone_format)\n",
    "    df.to_csv(name_new_file, index=False, quoting=csv.QUOTE_ALL, quotechar='\"', encoding='utf-8')\n",
    "\n",
    "\n",
    "def main():\n",
    "    numbers(r\"C:\\Users\\9967-00-443\\Desktop\\смс\\sms_27.csv\", ';', r\"C:\\Users\\9967-00-443\\Desktop\\смс\\sms_27___.csv\")\n",
    "\n",
    "\n",
    "if __name__ == '__main__':\n",
    "    main()"
   ]
  },
  {
   "cell_type": "code",
   "execution_count": null,
   "metadata": {},
   "outputs": [],
   "source": []
  }
 ],
 "metadata": {
  "interpreter": {
   "hash": "464f91bbef21342966df8aaa7057ea3ab13d34820c5f2ed800db78f86fd43984"
  },
  "kernelspec": {
   "display_name": "Python 3.9.12 ('base')",
   "language": "python",
   "name": "python3"
  },
  "language_info": {
   "codemirror_mode": {
    "name": "ipython",
    "version": 3
   },
   "file_extension": ".py",
   "mimetype": "text/x-python",
   "name": "python",
   "nbconvert_exporter": "python",
   "pygments_lexer": "ipython3",
   "version": "3.9.12"
  },
  "orig_nbformat": 4
 },
 "nbformat": 4,
 "nbformat_minor": 2
}
