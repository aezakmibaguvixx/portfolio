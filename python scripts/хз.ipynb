{
 "cells": [
  {
   "cell_type": "code",
   "execution_count": null,
   "metadata": {},
   "outputs": [],
   "source": [
    "import pandas as pd\n",
    "import csv\n",
    "import io\n",
    "df = pd.read_csv(r\"D:\\Гайдаренко\\2-.csv\", sep = ';', dtype=str,  encoding = 'utf-8',encoding_errors='ignore', engine='python', on_bad_lines='skip')"
   ]
  },
  {
   "cell_type": "code",
   "execution_count": null,
   "metadata": {},
   "outputs": [],
   "source": [
    "df.head()"
   ]
  },
  {
   "cell_type": "code",
   "execution_count": null,
   "metadata": {},
   "outputs": [],
   "source": [
    "df['Сальдо ЕНС'] = df['Сальдо ЕНС'].str.replace(',','.').astype (float)\n"
   ]
  },
  {
   "cell_type": "code",
   "execution_count": null,
   "metadata": {},
   "outputs": [],
   "source": [
    "df.info()"
   ]
  },
  {
   "cell_type": "code",
   "execution_count": null,
   "metadata": {},
   "outputs": [],
   "source": [
    "df['S_ENS'] = df['S_ENS'].str.replace(',','.').astype (float)\n",
    "df['Сумма по документу ст.47'] = df['Сумма по документу ст.47'].str.replace(',','.').astype (float)\n",
    "df['Остаток неоплаченной суммы ст.'] = df['Остаток неоплаченной суммы ст.'].str.replace(',','.').astype (float)"
   ]
  },
  {
   "cell_type": "code",
   "execution_count": null,
   "metadata": {},
   "outputs": [],
   "source": [
    "df.info()"
   ]
  },
  {
   "cell_type": "code",
   "execution_count": null,
   "metadata": {},
   "outputs": [],
   "source": [
    "def floating(dt, col):\n",
    "    dt[col] = dt[col].replace(',', '.', regex=True).astype(float).fillna(0.0)\n",
    "    pd.options.display.float_format = '{:.2f}'.format\n",
    "    \n",
    "#floating(df, 'Общее сальдо ЕНС') #перевод столбца в формат float\n",
    "\n",
    "\n",
    "\n",
    "chunk_size = 800000 # количество строк\n",
    "num_chunks = len(df) // chunk_size + 1 # количество частей\n",
    "num_chunks\n",
    "\n",
    "\n",
    "\n",
    "for i in range(num_chunks):\n",
    "    start = i * chunk_size # разбиение датафрейма на части и сохранение каждой части в файл Excel\n",
    "    end = (i + 1) * chunk_size\n",
    "    chunk = df.iloc[start:end] # выбор части датафрейма\n",
    "    filename = fr\"D:\\Гайдаренко\\\\Скрипт2_{i+1}.xlsx\" \n",
    "    chunk.to_excel(filename, index=False) #сохранение части в файл Excel"
   ]
  },
  {
   "cell_type": "code",
   "execution_count": null,
   "metadata": {},
   "outputs": [],
   "source": [
    "твой_dt.to_csv(r Путь_к_файлу,index=False)\n",
    "df.to_excel(r'Z:-Отдел анализа данных01 - Сотрудники0-Чулков З. Оа неделюжедневноельта0.21.22.10\\Изменения в журнале зачетов на 20.10.2023.xlsx',index=False)\n",
    "твой_dt['имя_столбца'] = pd.to_datetime(твой_dt['имя_столбца'],dayfirst=True).dt.date"
   ]
  }
 ],
 "metadata": {
  "interpreter": {
   "hash": "464f91bbef21342966df8aaa7057ea3ab13d34820c5f2ed800db78f86fd43984"
  },
  "kernelspec": {
   "display_name": "Python 3.9.12 ('base')",
   "language": "python",
   "name": "python3"
  },
  "language_info": {
   "codemirror_mode": {
    "name": "ipython",
    "version": 3
   },
   "file_extension": ".py",
   "mimetype": "text/x-python",
   "name": "python",
   "nbconvert_exporter": "python",
   "pygments_lexer": "ipython3",
   "version": "3.9.12"
  },
  "orig_nbformat": 4
 },
 "nbformat": 4,
 "nbformat_minor": 2
}
