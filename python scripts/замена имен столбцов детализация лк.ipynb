{
 "cells": [
  {
   "cell_type": "code",
   "execution_count": null,
   "id": "74ff2e7c",
   "metadata": {},
   "outputs": [],
   "source": [
    "%%time\n",
    "import pandas as pd\n",
    "import os,shutil\n",
    "from datetime import datetime\n",
    "from datetime import timedelta\n",
    "from datetime import date\n",
    "pd.options.display.float_format='{:,.2f}'.format\n",
    "df = pd.read_excel(r\"Z:\\8-Отдел анализа данных\\001 - Сотрудники\\10-Чулков З. О\\Прогноз ТУ 2023 pochta.xlsx\", dtype=str)\n",
    "#df = pd.read_csv(r\"C:\\Users\\9967-00-443\\Desktop\\sms email\\vkv_zmv_sms_(today)-.csv\", sep = ';', dtype=str, encoding = 'utf-8')#,encoding_errors='ignore',                      \n",
    "                   #engine=\"python\", on_bad_lines=\"skip\") # 'cp1251'"
   ]
  },
  {
   "cell_type": "code",
   "execution_count": null,
   "id": "c8ed2662",
   "metadata": {},
   "outputs": [],
   "source": [
    "df.info()"
   ]
  },
  {
   "cell_type": "code",
   "execution_count": null,
   "id": "66b24102",
   "metadata": {},
   "outputs": [],
   "source": [
    "mapping = {\n",
    "   # 'INN':'ИНН',\n",
    "   # 'NAME_FULL':'ПОЛНОЕ_ИМЯ',\n",
    "    'REGION':'РЕГИОН',\n",
    "    'ALL_COUNT':'ОБЩЕЕ КОЛИЧЕСТВО',\n",
    "    'ALL_SUM':'ОБЩАЯ СУММА',\n",
    "    'LT3000CNT':'кол-во_меньше_3000',\n",
    "    'LT3000SUM':'сумма_меньше_3000',\n",
    "    'GT3000CNT':'кол-во_больше_300',\n",
    "    'GT3000SUM':'сумма_больше_300',\n",
    "    'FROM3TO10CNT':'кол-во_3-10',\n",
    "    'FROM3TO10SUM':'сумма_3-10',\n",
    "    'FROM10TO20CNT':'кол-во_10-20',\n",
    "    'FROM10TO20SUM':'сумма_10-20',\n",
    "    'FROM20TO30CNT':'кол-во_20-30',\n",
    "    'FROM20TO30SUM':'сумма_20-30',\n",
    "    'FROM30TO40CNT':'кол-во_30-40',\n",
    "    'FROM30TO40SUM':'сумма_30-40',\n",
    "    'FROM40TO50CNT':'кол-во_40-50',\n",
    "    'FROM40TO50SUM':'сумма_40-50',\n",
    "    'FROM50TO60CNT':'кол-во_50-60',\n",
    "    'FROM50TO60SUM':'сумма_50-60',\n",
    "    'FROM60TO70CNT':'кол-во_60-70',\n",
    "    'FROM60TO70SUM':'сумма_60-70',\n",
    "    'FROM70TO80CNT':'кол-во_70-80',\n",
    "    'FROM70TO80SUM':'сумма_70-80',\n",
    "    'FROM80TO90CNT':'кол-во_80-90',\n",
    "    'FROM80TO90SUM':'сумма_80-90',\n",
    "    'FROM90TO100CNT':'кол-во_90-100',\n",
    "    'FROM90TO100SUM':'сумма_90-100',\n",
    "    'FROM100TO500CNT':'кол-во_100-500',\n",
    "    'FROM100TO500SUM':'сумма_100-500',\n",
    "    'FROM500TO1000CNT':'кол-во_500-1000',\n",
    "    'FROM500TO1000SUM':'сумма_500-1000',\n",
    "    'GT1000CNT':'кол-во_больше_1000',\n",
    "    'GT1000SUM': 'сумма_больше_1000',\n",
    "}\n",
    "\n"
   ]
  },
  {
   "cell_type": "code",
   "execution_count": null,
   "id": "180b8657",
   "metadata": {},
   "outputs": [],
   "source": [
    "df.rename(columns = mapping, inplace = True)"
   ]
  },
  {
   "cell_type": "code",
   "execution_count": null,
   "id": "943eeed1",
   "metadata": {},
   "outputs": [],
   "source": [
    "df.info()"
   ]
  },
  {
   "cell_type": "code",
   "execution_count": null,
   "id": "d71dcb69",
   "metadata": {},
   "outputs": [],
   "source": [
    "df.to_excel(r'Z:\\8-Отдел анализа данных\\001 - Сотрудники\\10-Чулков З. О\\\\Прогноз ТУ 2023 pochta_ru.xlsx',index=False)"
   ]
  },
  {
   "cell_type": "code",
   "execution_count": null,
   "id": "4d4c440e",
   "metadata": {},
   "outputs": [],
   "source": []
  }
 ],
 "metadata": {
  "kernelspec": {
   "display_name": "Python 3 (ipykernel)",
   "language": "python",
   "name": "python3"
  },
  "language_info": {
   "codemirror_mode": {
    "name": "ipython",
    "version": 3
   },
   "file_extension": ".py",
   "mimetype": "text/x-python",
   "name": "python",
   "nbconvert_exporter": "python",
   "pygments_lexer": "ipython3",
   "version": "3.9.12"
  }
 },
 "nbformat": 4,
 "nbformat_minor": 5
}
