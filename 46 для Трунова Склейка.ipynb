{
 "cells": [
  {
   "cell_type": "code",
   "execution_count": null,
   "metadata": {},
   "outputs": [],
   "source": [
    "import pandas as pd \n",
    "import csv\n",
    "import pandas as pd\n",
    "import glob\n",
    "import openpyxl\n",
    "files = [item for item in glob.glob(r\"Z:\\8-Отдел анализа данных\\001 - Сотрудники\\03 - Сторожева С.Л\\46 Трунов_Клачковой\\*{}\".format('.csv'))]\n",
    "files"
   ]
  },
  {
   "cell_type": "code",
   "execution_count": null,
   "metadata": {},
   "outputs": [],
   "source": [
    "combined = pd.DataFrame()\n",
    "for file in files:\n",
    "    file = pd.read_csv(file,dtype=str,sep = ';',encoding='cp1251') #sheet_name='Данные 2023') #, #skiprows=1, usecols=['Регион','Выручка'])\n",
    "    #file = file[['Выручка','Регион']]\n",
    "    #file.columns = ['viruchka','region']\n",
    "    combined = pd.concat([combined,file])"
   ]
  },
  {
   "cell_type": "code",
   "execution_count": null,
   "metadata": {},
   "outputs": [],
   "source": [
    "combined.head()\n",
    "combined.info()\n"
   ]
  },
  {
   "cell_type": "code",
   "execution_count": null,
   "metadata": {},
   "outputs": [],
   "source": [
    "combined.iloc[:,1] = combined.iloc[:,1].str.replace(',','.').astype (float)\n",
    "combined.iloc[:,2] = combined.iloc[:,2].str.replace(',','.').astype (float)\n",
    "combined.iloc[:,4] = combined.iloc[:,4].str.replace(',','.').astype (float)\n",
    "combined.iloc[:,8] = combined.iloc[:,8].str.replace(',','.').astype (float)\n",
    "combined.iloc[:,11] = combined.iloc[:,11].str.replace(',','.').astype (float)\n",
    "combined.iloc[:,12] = combined.iloc[:,12].str.replace(',','.').astype (float)\n",
    "combined.iloc[:,13] = combined.iloc[:,13].str.replace(',','.').astype (float)\n"
   ]
  },
  {
   "cell_type": "code",
   "execution_count": null,
   "metadata": {},
   "outputs": [],
   "source": [
    "combined.rename(columns={combined.columns[0]:'Регион',combined.columns[1]:'Сумма отр сальдо по документу',\n",
    "combined.columns[2]:'Актуальный остаток отр сальдо ЕНС',combined.columns[3]:'Кол-во инк поручений',\n",
    "combined.columns[4]:'Сумма инк поручений',combined.columns[5]:'Кол-во уточ поручений',\n",
    "combined.columns[6]:'Кол-во поручений на 0',combined.columns[7]:'Кол-во уведомлений о приостановке',\n",
    "combined.columns[8]:'Сумма уведомлений о приостановке',combined.columns[9]:'Кол-во уточненных уведомлений',\n",
    "combined.columns[10]:'Кол-во отзывов до 2023',combined.columns[11]:'Сумма отзывов до 2023',\n",
    "combined.columns[12]:'Уменьшено',combined.columns[13]:'Погашено'},inplace=True)\n"
   ]
  },
  {
   "cell_type": "code",
   "execution_count": null,
   "metadata": {},
   "outputs": [],
   "source": [
    "\n",
    "combined.info()"
   ]
  },
  {
   "cell_type": "code",
   "execution_count": null,
   "metadata": {},
   "outputs": [],
   "source": [
    "combined.to_excel(r'Z:\\8-Отдел анализа данных\\001 - Сотрудники\\03 - Сторожева С.Л\\46 Трунов_Клачковой\\\\res.xlsx',index=False)"
   ]
  },
  {
   "cell_type": "code",
   "execution_count": null,
   "metadata": {},
   "outputs": [],
   "source": []
  }
 ],
 "metadata": {
  "interpreter": {
   "hash": "464f91bbef21342966df8aaa7057ea3ab13d34820c5f2ed800db78f86fd43984"
  },
  "kernelspec": {
   "display_name": "Python 3.9.12 ('base')",
   "language": "python",
   "name": "python3"
  },
  "language_info": {
   "codemirror_mode": {
    "name": "ipython",
    "version": 3
   },
   "file_extension": ".py",
   "mimetype": "text/x-python",
   "name": "python",
   "nbconvert_exporter": "python",
   "pygments_lexer": "ipython3",
   "version": "3.9.12"
  },
  "orig_nbformat": 4
 },
 "nbformat": 4,
 "nbformat_minor": 2
}
